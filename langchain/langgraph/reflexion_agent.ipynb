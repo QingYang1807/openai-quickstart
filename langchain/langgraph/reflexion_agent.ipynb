{
 "cells": [
  {
   "cell_type": "markdown",
   "id": "08fe2f4a",
   "metadata": {},
   "source": [
    "# Reflexion 开发指南\n",
    "\n",
    "本指南介绍了如何使用 LangGraph 构建具有自我反思能力的代理，该代理基于 Shinn 等人的 Reflexion 架构。该代理通过自我批判其任务响应，以生成更高质量的最终答案，代价是增加了执行时间。\n",
    "\n",
    "## 工作流程\n",
    "\n",
    "1. 安装与设置\n",
    "2. 设置 LangSmith 用于 LangGraph 开发\n",
    "3. 定义我们的 LLM\n",
    "4. Actor（具有反思功能）\n",
    "5. 构建工具\n",
    "6. 初始响应器\n",
    "7. 修订\n",
    "8. 创建工具节点\n",
    "9. 构建图形\n",
    "\n",
    "## 1. 安装与设置\n",
    "\n",
    "首先，安装 `langgraph`（用于框架）、`langchain_anthropic`（用于 LLM），以及 `tavily-python`（用于搜索引擎）。"
   ]
  },
  {
   "cell_type": "code",
   "execution_count": 3,
   "id": "846f6d49",
   "metadata": {},
   "outputs": [
    {
     "name": "stdout",
     "output_type": "stream",
     "text": [
      "Note: you may need to restart the kernel to use updated packages.\n",
      "Note: you may need to restart the kernel to use updated packages.\n"
     ]
    }
   ],
   "source": [
    "%pip install -U --quiet langgraph langchain_anthropic\n",
    "%pip install -U --quiet tavily-python\n",
    "import getpass\n",
    "import os\n",
    "\n",
    "def _set_if_undefined(var: str) -> None:\n",
    "    if os.environ.get(var):\n",
    "        return\n",
    "    os.environ[var] = getpass.getpass(var)\n",
    "\n",
    "_set_if_undefined(\"ANTHROPIC_API_KEY\")\n",
    "_set_if_undefined(\"TAVILY_API_KEY\")\n",
    "_set_if_undefined(\"OPENAI_API_KEY\")"
   ]
  },
  {
   "cell_type": "markdown",
   "id": "05172b7f",
   "metadata": {},
   "source": [
    "我们将使用 Tavily Search 作为工具。你可以在 [这里](https://www.tavily.com/) 获取 API 密钥，或者替换为你选择的其他工具。\n",
    "\n",
    "## 2. 设置 LangSmith 用于 LangGraph 开发\n",
    "\n",
    "注册 LangSmith 以快速发现问题并提高 LangGraph 项目的性能。LangSmith 允许你使用跟踪数据来调试、测试和监控使用 LangGraph 构建的 LLM 应用程序——阅读更多关于如何开始的信息 [here](https://smith.langchain.com/)。\n",
    "\n",
    "## 3. 定义我们的 LLM"
   ]
  },
  {
   "cell_type": "code",
   "execution_count": 4,
   "id": "30b1468d",
   "metadata": {},
   "outputs": [],
   "source": [
    "from langchain_openai import ChatOpenAI\n",
    "llm = ChatOpenAI(model=\"gpt-4-turbo-preview\")\n",
    "\n",
    "# 你也可以使用其他提供商\n",
    "# from langchain_anthropic import ChatAnthropic\n",
    "\n",
    "# llm = ChatAnthropic(model=\"claude-3-sonnet-20240229\")"
   ]
  },
  {
   "cell_type": "markdown",
   "id": "b7bfd532",
   "metadata": {},
   "source": [
    "## 4. Actor（具有反思功能）\n",
    "\n",
    "Reflexion 的主要组件是 \"actor\"，这是一个通过自我批判其响应并根据自我批判重新执行以改进的代理。其主要子组件包括：\n",
    "\n",
    "- 工具/工具执行\n",
    "- 初始响应器：生成任务的初始响应（和自我反思）\n",
    "- 修订者：基于先前的反思重新响应（和反思）\n",
    "\n",
    "我们首先定义工具执行上下文。\n",
    "\n",
    "--------------------\n",
    "\n",
    "## 5. 构建工具"
   ]
  },
  {
   "cell_type": "code",
   "execution_count": 5,
   "id": "77519b95",
   "metadata": {},
   "outputs": [],
   "source": [
    "from langchain_community.tools.tavily_search import TavilySearchResults\n",
    "from langchain_community.utilities.tavily_search import TavilySearchAPIWrapper\n",
    "\n",
    "search = TavilySearchAPIWrapper()\n",
    "tavily_tool = TavilySearchResults(api_wrapper=search, max_results=5)"
   ]
  },
  {
   "cell_type": "markdown",
   "id": "934ec558",
   "metadata": {},
   "source": [
    "## 6. 初始响应器"
   ]
  },
  {
   "cell_type": "code",
   "execution_count": 8,
   "id": "92930f29",
   "metadata": {},
   "outputs": [],
   "source": [
    "from langchain_core.messages import HumanMessage, ToolMessage\n",
    "from langchain_core.output_parsers.openai_tools import PydanticToolsParser\n",
    "from langchain_core.prompts import ChatPromptTemplate, MessagesPlaceholder\n",
    "from pydantic import ValidationError\n",
    "# 注意：你必须使用 langchain-core >= 0.3 与 Pydantic v2\n",
    "from pydantic import BaseModel, Field\n",
    "\n",
    "class Reflection(BaseModel):\n",
    "    missing: str = Field(description=\"Critique of what is missing.\")\n",
    "    superfluous: str = Field(description=\"Critique of what is superfluous\")\n",
    "\n",
    "class AnswerQuestion(BaseModel):\n",
    "    answer: str = Field(description=\"~250 word detailed answer to the question.\")\n",
    "    reflection: Reflection = Field(description=\"Your reflection on the initial answer.\")\n",
    "    search_queries: list[str] = Field(\n",
    "        description=\"1-3 search queries for researching improvements to address the critique of your current answer.\"\n",
    "    )\n",
    "\n",
    "class ResponderWithRetries:\n",
    "    def __init__(self, runnable, validator):\n",
    "        self.runnable = runnable\n",
    "        self.validator = validator\n",
    "\n",
    "    def respond(self, state: list):\n",
    "        response = []\n",
    "        for attempt in range(3):\n",
    "            response = self.runnable.invoke(\n",
    "                {\"messages\": state}, {\"tags\": [f\"attempt:{attempt}\"]}\n",
    "            )\n",
    "            try:\n",
    "                self.validator.invoke(response)\n",
    "                return response\n",
    "            except ValidationError as e:\n",
    "                state = state + [\n",
    "                    response,\n",
    "                    ToolMessage(\n",
    "                        content=f\"{repr(e)} Pay close attention to the function schema.\"\n",
    "                        + self.validator.schema_json()\n",
    "                        + \" Respond by fixing all validation errors.\",\n",
    "                        tool_call_id=response.tool_calls[0][\"id\"],\n",
    "                    ),\n",
    "                ]\n",
    "        return response"
   ]
  },
  {
   "cell_type": "markdown",
   "id": "c3dda96f",
   "metadata": {},
   "source": [
    "## 7. 修订"
   ]
  },
  {
   "cell_type": "code",
   "execution_count": 9,
   "id": "411322d3",
   "metadata": {},
   "outputs": [],
   "source": [
    "revise_instructions = '''Revise your previous answer using the new information.\n",
    "    - You should use the previous critique to add important information to your answer.\n",
    "        - You MUST include numerical citations in your revised answer to ensure it can be verified.\n",
    "        - Add a \"References\" section to the bottom of your answer (which does not count towards the word limit). In form of:\n",
    "            - [1] https://example.com\n",
    "            - [2] https://example.com\n",
    "    - You should use the previous critique to remove superfluous information from your answer and make SURE it is not more than 250 words.\n",
    "'''"
   ]
  },
  {
   "cell_type": "markdown",
   "id": "021405f7",
   "metadata": {},
   "source": [
    "扩展初始答案的模式以包含引用。强制模型引用可以鼓励扎实的响应。"
   ]
  },
  {
   "cell_type": "code",
   "execution_count": 10,
   "id": "b8774c10",
   "metadata": {},
   "outputs": [],
   "source": [
    "# 扩展初始答案的模式以包含引用。\n",
    "# 强制引用可以鼓励模型生成有根据的响应\n",
    "class ReviseAnswer(AnswerQuestion):\n",
    "    references: list[str] = Field(description=\"Citations motivating your updated answer.\")"
   ]
  },
  {
   "cell_type": "markdown",
   "id": "78120cb8",
   "metadata": {},
   "source": [
    "## 8. 创建工具节点"
   ]
  },
  {
   "cell_type": "code",
   "execution_count": 14,
   "id": "a884b113",
   "metadata": {},
   "outputs": [],
   "source": [
    "from langchain_core.tools import StructuredTool\n",
    "from langgraph.prebuilt import ToolNode\n",
    "\n",
    "def run_queries(search_queries: list[str], **kwargs):\n",
    "    \"\"\"\n",
    "    Executes a batch of search queries using the tavily tool.\n",
    "\n",
    "    Args:\n",
    "        search_queries (list[str]): A list of search queries to execute.\n",
    "        kwargs: Additional arguments for the tavily tool.\n",
    "\n",
    "    Returns:\n",
    "        Results from the tavily tool as a list of query responses.\n",
    "    \"\"\"\n",
    "    return tavily_tool.batch([{\"query\": query} for query in search_queries])\n",
    "\n",
    "tool_node = ToolNode(\n",
    "    [\n",
    "        StructuredTool.from_function(run_queries, name=AnswerQuestion.__name__),\n",
    "        StructuredTool.from_function(run_queries, name=ReviseAnswer.__name__),\n",
    "    ]\n",
    ")"
   ]
  },
  {
   "cell_type": "markdown",
   "id": "423a43de",
   "metadata": {},
   "source": [
    "## 9. 构建图形"
   ]
  },
  {
   "cell_type": "code",
   "execution_count": 19,
   "metadata": {},
   "outputs": [],
   "source": [
    "from langchain_core.output_parsers.openai_tools import PydanticToolsParser\n",
    "from langchain_core.tools import StructuredTool\n",
    "\n",
    "# 定义工具\n",
    "validate_tool = StructuredTool.from_function(\n",
    "    lambda x: x,  # 一个占位函数，不执行实际逻辑\n",
    "    name=\"validate_tool\",  # 工具名称\n",
    "    description=\"A tool to validate the schema of AnswerQuestion.\",  # 工具描述\n",
    ")\n",
    "\n",
    "# 初始化初始响应器\n",
    "first_responder = ResponderWithRetries(\n",
    "    runnable=llm,  # 假设您使用了 `ChatOpenAI` 或其他 LLM 实现\n",
    "    validator=PydanticToolsParser(\n",
    "        tools=[validate_tool],  # 工具列表，提供一个或多个工具\n",
    "        pydantic_class=AnswerQuestion,  # 验证响应是否符合 `AnswerQuestion` 模式\n",
    "    ),\n",
    ")"
   ]
  },
  {
   "cell_type": "code",
   "execution_count": 22,
   "metadata": {},
   "outputs": [],
   "source": [
    "from langchain_core.output_parsers.openai_tools import PydanticToolsParser\n",
    "from langchain_core.tools import StructuredTool\n",
    "\n",
    "# 定义工具\n",
    "revise_tool = StructuredTool.from_function(\n",
    "    lambda x: x,  # 一个占位函数\n",
    "    name=\"revise_tool\",  # 工具名称\n",
    "    description=\"A tool to validate the schema of ReviseAnswer.\",  # 工具描述\n",
    ")\n",
    "\n",
    "# 初始化修订者\n",
    "revisor = ResponderWithRetries(\n",
    "    runnable=llm,  # 假设您使用了 `ChatOpenAI` 或其他 LLM 实现\n",
    "    validator=PydanticToolsParser(\n",
    "        tools=[revise_tool],  # 工具列表，包含一个或多个工具\n",
    "        pydantic_class=ReviseAnswer,  # 验证响应是否符合 `ReviseAnswer` 模式\n",
    "    ),\n",
    ")"
   ]
  },
  {
   "cell_type": "code",
   "execution_count": 23,
   "id": "479405a1",
   "metadata": {},
   "outputs": [],
   "source": [
    "from typing import Literal\n",
    "from langgraph.graph import END, StateGraph, START\n",
    "from langgraph.graph.message import add_messages\n",
    "from typing import Annotated\n",
    "from typing_extensions import TypedDict\n",
    "\n",
    "class State(TypedDict):\n",
    "    messages: Annotated[list, add_messages]\n",
    "\n",
    "MAX_ITERATIONS = 5\n",
    "builder = StateGraph(State)\n",
    "builder.add_node(\"draft\", first_responder.respond)\n",
    "\n",
    "builder.add_node(\"execute_tools\", tool_node)\n",
    "builder.add_node(\"revise\", revisor.respond)\n",
    "builder.add_edge(\"draft\", \"execute_tools\")\n",
    "builder.add_edge(\"execute_tools\", \"revise\")\n",
    "\n",
    "def _get_num_iterations(state: list):\n",
    "    i = 0\n",
    "    for m in state[::-1]:\n",
    "        if m.type not in {\"tool\", \"ai\"}:\n",
    "            break\n",
    "        i += 1\n",
    "    return i\n",
    "\n",
    "def event_loop(state: list) -> Literal[\"execute_tools\", \"__end__\"]:\n",
    "    num_iterations = _get_num_iterations(state)\n",
    "    if num_iterations > MAX_ITERATIONS:\n",
    "        return END\n",
    "    return \"execute_tools\"\n",
    "\n",
    "builder.add_conditional_edges(\"revise\", event_loop)\n",
    "builder.add_edge(START, \"draft\")\n",
    "graph = builder.compile()"
   ]
  },
  {
   "cell_type": "code",
   "execution_count": 24,
   "id": "2bfc9f68",
   "metadata": {},
   "outputs": [
    {
     "data": {
      "image/png": "[encoded data removed]",
      "text/plain": [
       "<IPython.core.display.Image object>"
      ]
     },
     "metadata": {},
     "output_type": "display_data"
    }
   ],
   "source": [
    "from IPython.display import Image, display\n",
    "\n",
    "try:\n",
    "    display(Image(graph.get_graph().draw_mermaid_png()))\n",
    "except Exception:\n",
    "    pass"
   ]
  },
  {
   "cell_type": "markdown",
   "metadata": {},
   "source": [
    "# 扩展本节课学习的 Reflection Agent，使其能够完成更通用的生成任务，包括但不限于代码、报告等。"
   ]
  },
  {
   "cell_type": "markdown",
   "metadata": {},
   "source": [
    "## 通用任务模式定义\n",
    "扩展 AnswerQuestion 和 ReviseAnswer，使其支持更通用的生成任务。"
   ]
  },
  {
   "cell_type": "code",
   "execution_count": 33,
   "metadata": {},
   "outputs": [],
   "source": [
    "from typing import Optional\n",
    "\n",
    "class GeneralTask(BaseModel):\n",
    "    task_type: str = Field(\n",
    "        description=\"Type of the task, e.g., 'code_generation', 'report_writing', 'general_generation'.\"\n",
    "    )\n",
    "    input: str = Field(description=\"The input or prompt for the task.\")\n",
    "    output: str = Field(description=\"The generated content for the task.\")\n",
    "    reflection: Optional[Reflection] = Field(\n",
    "        default=None,\n",
    "        description=\"Reflection on the generated output.\"\n",
    "    )\n",
    "    suggestions: list[str] = Field(\n",
    "        description=\"List of suggested improvements for the output based on the reflection.\"\n",
    "    )\n",
    "\n",
    "class ReviseTask(GeneralTask):\n",
    "    references: list[str] = Field(\n",
    "        description=\"References or sources used to support the revised output.\"\n",
    "    )\n"
   ]
  },
  {
   "cell_type": "markdown",
   "metadata": {},
   "source": [
    "## 工具节点支持通用任务\n",
    "调整工具节点，使其能够动态支持不同的生成任务。"
   ]
  },
  {
   "cell_type": "code",
   "execution_count": 34,
   "metadata": {},
   "outputs": [],
   "source": [
    "# 工具节点执行逻辑扩展\n",
    "def handle_general_task(task_input: GeneralTask, **kwargs):\n",
    "    \"\"\"\n",
    "    Process general tasks, supporting various types such as code generation and report writing.\n",
    "\n",
    "    Args:\n",
    "        task_input (GeneralTask): The input task containing type, input, and requirements.\n",
    "    Returns:\n",
    "        Updated task output based on processing.\n",
    "    \"\"\"\n",
    "    if task_input.task_type == \"code_generation\":\n",
    "        # Example: Invoke a specialized coding API or logic\n",
    "        task_input.output = f\"Generated code for: {task_input.input}\"\n",
    "    elif task_input.task_type == \"report_writing\":\n",
    "        # Example: Generate a report using predefined templates or logic\n",
    "        task_input.output = f\"Generated report for: {task_input.input}\"\n",
    "    else:\n",
    "        task_input.output = f\"Generated output for task: {task_input.input}\"\n",
    "    return task_input\n",
    "\n",
    "# 创建工具节点\n",
    "general_tool_node = ToolNode(\n",
    "    [\n",
    "        StructuredTool.from_function(\n",
    "            handle_general_task, name=\"GeneralTaskHandler\", description=\"Handles various general tasks.\"\n",
    "        )\n",
    "    ]\n",
    ")"
   ]
  },
  {
   "cell_type": "markdown",
   "metadata": {},
   "source": [
    "## 初始响应器与修订者支持通用任务\n",
    "调整 first_responder 和 revisor 以支持新的模式。"
   ]
  },
  {
   "cell_type": "code",
   "execution_count": 35,
   "metadata": {},
   "outputs": [],
   "source": [
    "# 初始响应器\n",
    "first_responder = ResponderWithRetries(\n",
    "    runnable=llm,\n",
    "    validator=PydanticToolsParser(\n",
    "        tools=[validate_tool],\n",
    "        pydantic_class=GeneralTask,  # 使用 GeneralTask 验证器\n",
    "    ),\n",
    ")\n",
    "\n",
    "# 修订者\n",
    "revisor = ResponderWithRetries(\n",
    "    runnable=llm,\n",
    "    validator=PydanticToolsParser(\n",
    "        tools=[revise_tool],\n",
    "        pydantic_class=ReviseTask,  # 使用 ReviseTask 验证器\n",
    "    ),\n",
    ")"
   ]
  },
  {
   "cell_type": "markdown",
   "metadata": {},
   "source": [
    "## 构建图形\n",
    "根据任务动态选择工具节点和逻辑。"
   ]
  },
  {
   "cell_type": "code",
   "execution_count": 36,
   "metadata": {},
   "outputs": [],
   "source": [
    "builder = StateGraph(State)\n",
    "\n",
    "# 添加节点和边\n",
    "builder.add_node(\"draft\", first_responder.respond)\n",
    "builder.add_node(\"execute_tools\", general_tool_node)\n",
    "builder.add_node(\"revise\", revisor.respond)\n",
    "\n",
    "builder.add_edge(\"draft\", \"execute_tools\")\n",
    "builder.add_edge(\"execute_tools\", \"revise\")\n",
    "\n",
    "# 动态调整逻辑\n",
    "def dynamic_event_loop(state: list):\n",
    "    num_iterations = _get_num_iterations(state)\n",
    "    if num_iterations > MAX_ITERATIONS:\n",
    "        return END\n",
    "    return \"execute_tools\"\n",
    "\n",
    "builder.add_conditional_edges(\"revise\", dynamic_event_loop)\n",
    "builder.add_edge(START, \"draft\")\n",
    "\n",
    "# 编译图\n",
    "graph = builder.compile()"
   ]
  },
  {
   "cell_type": "markdown",
   "metadata": {},
   "source": [
    "## 可选任务分类器\n",
    "如果输入未指定任务类型，可以使用分类器来自动确定任务类型。"
   ]
  },
  {
   "cell_type": "code",
   "execution_count": 37,
   "metadata": {},
   "outputs": [],
   "source": [
    "def classify_task(input_prompt: str) -> str:\n",
    "    \"\"\"\n",
    "    Classify the task based on the input prompt.\n",
    "\n",
    "    Args:\n",
    "        input_prompt (str): The task input or prompt.\n",
    "    Returns:\n",
    "        str: The classified task type.\n",
    "    \"\"\"\n",
    "    if \"write code\" in input_prompt.lower():\n",
    "        return \"code_generation\"\n",
    "    elif \"write a report\" in input_prompt.lower():\n",
    "        return \"report_writing\"\n",
    "    else:\n",
    "        return \"general_generation\""
   ]
  },
  {
   "cell_type": "markdown",
   "metadata": {},
   "source": [
    "将分类器集成到响应器中："
   ]
  },
  {
   "cell_type": "code",
   "execution_count": 38,
   "metadata": {},
   "outputs": [],
   "source": [
    "def preprocess_input(input_prompt: str):\n",
    "    task_type = classify_task(input_prompt)\n",
    "    return GeneralTask(task_type=task_type, input=input_prompt, output=\"\", reflection=None, suggestions=[])"
   ]
  },
  {
   "cell_type": "markdown",
   "metadata": {},
   "source": [
    "## 测试代理"
   ]
  },
  {
   "cell_type": "code",
   "execution_count": 43,
   "metadata": {},
   "outputs": [
    {
     "name": "stdout",
     "output_type": "stream",
     "text": [
      "Generated code for: Write a Python function to calculate factorial.\n"
     ]
    }
   ],
   "source": [
    "# 输入示例\n",
    "task_input = GeneralTask(\n",
    "    task_type=\"code_generation\", \n",
    "    input=\"Write a Python function to calculate factorial.\", \n",
    "    output=\"\", \n",
    "    reflection=None, \n",
    "    suggestions=[]\n",
    ")\n",
    "\n",
    "# 执行工具节点\n",
    "result = handle_general_task(task_input)\n",
    "\n",
    "# 检查结果\n",
    "print(result.output)"
   ]
  },
  {
   "cell_type": "code",
   "execution_count": 42,
   "metadata": {},
   "outputs": [
    {
     "name": "stdout",
     "output_type": "stream",
     "text": [
      "Generated output for task: Write a detailed report on climate change effects.\n"
     ]
    }
   ],
   "source": [
    "# 自动分类并生成任务\n",
    "prompt = \"Write a detailed report on climate change effects.\"\n",
    "classified_task = preprocess_input(prompt)\n",
    "\n",
    "# 执行任务\n",
    "result = handle_general_task(classified_task)\n",
    "\n",
    "# 输出结果\n",
    "print(result.output)"
   ]
  }
 ],
 "metadata": {
  "kernelspec": {
   "display_name": "Python 3 (ipykernel)",
   "language": "python",
   "name": "python3"
  },
  "language_info": {
   "codemirror_mode": {
    "name": "ipython",
    "version": 3
   },
   "file_extension": ".py",
   "mimetype": "text/x-python",
   "name": "python",
   "nbconvert_exporter": "python",
   "pygments_lexer": "ipython3",
   "version": "3.10.11"
  }
 },
 "nbformat": 4,
 "nbformat_minor": 5
}
