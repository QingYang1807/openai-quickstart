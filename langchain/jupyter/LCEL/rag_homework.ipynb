{
 "cells": [
  {
   "attachments": {},
   "cell_type": "markdown",
   "id": "439df52a-dadf-4fd8-a0ad-e59bac7ca529",
   "metadata": {},
   "source": [
    "# 使用 LangChain 构建一个 RAG 应用\n",
    "\n",
    "## RAG 是什么\n",
    "\n",
    "RAG 是一种将检索到的文档上下文与大语言模型（LLM）结合起来生成答案的技术。\n",
    "\n",
    "整个过程主要分为以下几个步骤：\n",
    "\n",
    "1. 加载文档：将原始数据(来源可能是在线网站、本地文件、各类平台等)加载到 LangChain 中。\n",
    "1. 文档分割：将加载的文档分割成较小的块，以适应模型的上下文窗口，并更容易进行向量嵌入和检索。\n",
    "1. 存储嵌入：将分割后的文档内容嵌入到向量空间，并存储到向量数据库中，以便后续检索。\n",
    "1. 检索文档：通过查询向量数据库，检索与问题最相关的文档片段。\n",
    "1. 生成回答：将检索到的文档片段与用户问题组合，生成并返回答案。\n",
    "\n",
    "通过这些步骤，可以构建一个强大的问答系统，将复杂任务分解为更小的步骤并生成详细回答。\n",
    "\n",
    "![rag](../images/rag.png)"
   ]
  },
  {
   "cell_type": "code",
   "execution_count": 1,
   "id": "06a5b694-e332-4311-a20f-4e55fc9e3cb3",
   "metadata": {
    "collapsed": true,
    "jupyter": {
     "outputs_hidden": true
    }
   },
   "outputs": [
    {
     "name": "stdout",
     "output_type": "stream",
     "text": [
      "^C\n"
     ]
    },
    {
     "name": "stdout",
     "output_type": "stream",
     "text": [
      "Looking in indexes: https://pypi.tuna.tsinghua.edu.cn/simple\n",
      "Collecting langchain\n",
      "  Downloading https://pypi.tuna.tsinghua.edu.cn/packages/49/09/72630413a7ded27684e33392a0ff52ff1c8ea6749fee641319e75f82072b/langchain-0.3.7-py3-none-any.whl (1.0 MB)\n",
      "     ---------------------------------------- 0.0/1.0 MB ? eta -:--:--\n",
      "     ------------------------------- -------- 0.8/1.0 MB 4.2 MB/s eta 0:00:01\n",
      "     ---------------------------------------- 1.0/1.0 MB 4.0 MB/s eta 0:00:00\n",
      "Collecting langchain_community\n",
      "  Downloading https://pypi.tuna.tsinghua.edu.cn/packages/cc/19/f8af1cdefe326730ae02bd653f7382693153baf0bac7a69537d7811cad5f/langchain_community-0.3.7-py3-none-any.whl (2.4 MB)\n",
      "     ---------------------------------------- 0.0/2.4 MB ? eta -:--:--\n",
      "     --------------------- ------------------ 1.3/2.4 MB 6.1 MB/s eta 0:00:01\n",
      "     ---------------------------------------- 2.4/2.4 MB 5.8 MB/s eta 0:00:00\n",
      "Collecting langchain_chroma\n",
      "  Downloading https://pypi.tuna.tsinghua.edu.cn/packages/bc/8c/ef0a589e523e72373a79a64cd1184682155113b865f889d815a9f264a755/langchain_chroma-0.1.4-py3-none-any.whl (10 kB)\n",
      "Collecting PyYAML>=5.3 (from langchain)\n",
      "  Downloading https://pypi.tuna.tsinghua.edu.cn/packages/b5/84/0fa4b06f6d6c958d207620fc60005e241ecedceee58931bb20138e1e5776/PyYAML-6.0.2-cp310-cp310-win_amd64.whl (161 kB)\n",
      "Collecting SQLAlchemy<3,>=1.4 (from langchain)\n",
      "  Downloading https://pypi.tuna.tsinghua.edu.cn/packages/aa/af/ad9c25cadc79bd851bdb9d82b68af9bdb91ff05f56d0da2f8a654825974f/SQLAlchemy-2.0.36-cp310-cp310-win_amd64.whl (2.1 MB)\n",
      "     ---------------------------------------- 0.0/2.1 MB ? eta -:--:--\n",
      "     ------------------------- -------------- 1.3/2.1 MB 6.1 MB/s eta 0:00:01\n",
      "     ---------------------------------------- 2.1/2.1 MB 4.9 MB/s eta 0:00:00\n",
      "Collecting aiohttp<4.0.0,>=3.8.3 (from langchain)\n",
      "  Downloading https://pypi.tuna.tsinghua.edu.cn/packages/f5/d8/e9ef0ff541c2882caf8de32d3b7ba1742f02d8a2d6a69a1904472d069828/aiohttp-3.11.0-cp310-cp310-win_amd64.whl (439 kB)\n",
      "Collecting async-timeout<5.0.0,>=4.0.0 (from langchain)\n",
      "  Downloading https://pypi.tuna.tsinghua.edu.cn/packages/a7/fa/e01228c2938de91d47b307831c62ab9e4001e747789d0b05baf779a6488c/async_timeout-4.0.3-py3-none-any.whl (5.7 kB)\n",
      "Collecting langchain-core<0.4.0,>=0.3.15 (from langchain)\n",
      "  Downloading https://pypi.tuna.tsinghua.edu.cn/packages/c6/bf/bce8f38fa59038e1d67fbc145eab86c00229e366956191a0a452ee24194e/langchain_core-0.3.18-py3-none-any.whl (409 kB)\n",
      "Collecting langchain-text-splitters<0.4.0,>=0.3.0 (from langchain)\n",
      "  Downloading https://pypi.tuna.tsinghua.edu.cn/packages/ee/c6/5ba25c8bad647e92a92b3066177ab10d78efbd16c0b9919948cdcd18b027/langchain_text_splitters-0.3.2-py3-none-any.whl (25 kB)\n",
      "Collecting langsmith<0.2.0,>=0.1.17 (from langchain)\n",
      "  Downloading https://pypi.tuna.tsinghua.edu.cn/packages/f8/53/0a22394aa520176b1981e9b7f02090425731b575e9ae28f86a7f5341208c/langsmith-0.1.143-py3-none-any.whl (306 kB)\n",
      "Collecting numpy<2,>=1 (from langchain)\n",
      "  Downloading https://pypi.tuna.tsinghua.edu.cn/packages/19/77/538f202862b9183f54108557bfda67e17603fc560c384559e769321c9d92/numpy-1.26.4-cp310-cp310-win_amd64.whl (15.8 MB)\n",
      "     ---------------------------------------- 0.0/15.8 MB ? eta -:--:--\n",
      "     -- ------------------------------------- 1.0/15.8 MB 5.6 MB/s eta 0:00:03\n",
      "     ----- ---------------------------------- 2.1/15.8 MB 5.6 MB/s eta 0:00:03\n",
      "     -------- ------------------------------- 3.4/15.8 MB 5.6 MB/s eta 0:00:03\n",
      "     ----------- ---------------------------- 4.7/15.8 MB 5.8 MB/s eta 0:00:02\n",
      "     --------------- ------------------------ 6.0/15.8 MB 6.0 MB/s eta 0:00:02\n",
      "     ------------------ --------------------- 7.3/15.8 MB 5.8 MB/s eta 0:00:02\n",
      "     --------------------- ------------------ 8.4/15.8 MB 5.8 MB/s eta 0:00:02\n",
      "     ----------------------- ---------------- 9.4/15.8 MB 5.8 MB/s eta 0:00:02\n",
      "     --------------------------- ------------ 10.7/15.8 MB 5.8 MB/s eta 0:00:01\n",
      "     ------------------------------ --------- 12.1/15.8 MB 5.8 MB/s eta 0:00:01\n",
      "     --------------------------------- ------ 13.1/15.8 MB 5.8 MB/s eta 0:00:01\n",
      "     ------------------------------------ --- 14.4/15.8 MB 5.8 MB/s eta 0:00:01\n",
      "     ---------------------------------------  15.7/15.8 MB 5.8 MB/s eta 0:00:01\n",
      "     ---------------------------------------- 15.8/15.8 MB 5.7 MB/s eta 0:00:00\n",
      "Collecting pydantic<3.0.0,>=2.7.4 (from langchain)\n",
      "  Downloading https://pypi.tuna.tsinghua.edu.cn/packages/df/e4/ba44652d562cbf0bf320e0f3810206149c8a4e99cdbf66da82e97ab53a15/pydantic-2.9.2-py3-none-any.whl (434 kB)\n",
      "Collecting requests<3,>=2 (from langchain)\n",
      "  Downloading https://pypi.tuna.tsinghua.edu.cn/packages/f9/9b/335f9764261e915ed497fcdeb11df5dfd6f7bf257d4a6a2a686d80da4d54/requests-2.32.3-py3-none-any.whl (64 kB)\n",
      "Collecting tenacity!=8.4.0,<10,>=8.1.0 (from langchain)\n",
      "  Downloading https://pypi.tuna.tsinghua.edu.cn/packages/b6/cb/b86984bed139586d01532a587464b5805f12e397594f19f931c4c2fbfa61/tenacity-9.0.0-py3-none-any.whl (28 kB)\n",
      "Collecting SQLAlchemy<3,>=1.4 (from langchain)\n",
      "  Downloading https://pypi.tuna.tsinghua.edu.cn/packages/a2/50/f31e927d32f9729f69d150ffe47e7cf51e3e0bb2148fc400b3e93a92ca4c/SQLAlchemy-2.0.35-cp310-cp310-win_amd64.whl (2.1 MB)\n",
      "     ---------------------------------------- 0.0/2.1 MB ? eta -:--:--\n",
      "     ------------------------- -------------- 1.3/2.1 MB 6.7 MB/s eta 0:00:01\n",
      "     ------------------------------ --------- 1.6/2.1 MB 6.5 MB/s eta 0:00:01\n",
      "     ----------------------------------- ---- 1.8/2.1 MB 3.0 MB/s eta 0:00:01\n",
      "     ---------------------------------------- 2.1/2.1 MB 3.0 MB/s eta 0:00:00\n",
      "Collecting dataclasses-json<0.7,>=0.5.7 (from langchain_community)\n",
      "  Downloading https://pypi.tuna.tsinghua.edu.cn/packages/c3/be/d0d44e092656fe7a06b55e6103cbce807cdbdee17884a5367c68c9860853/dataclasses_json-0.6.7-py3-none-any.whl (28 kB)\n",
      "Collecting httpx-sse<0.5.0,>=0.4.0 (from langchain_community)\n",
      "  Downloading https://pypi.tuna.tsinghua.edu.cn/packages/e1/9b/a181f281f65d776426002f330c31849b86b31fc9d848db62e16f03ff739f/httpx_sse-0.4.0-py3-none-any.whl (7.8 kB)\n",
      "Collecting pydantic-settings<3.0.0,>=2.4.0 (from langchain_community)\n",
      "  Downloading https://pypi.tuna.tsinghua.edu.cn/packages/5e/f9/ff95fd7d760af42f647ea87f9b8a383d891cdb5e5dbd4613edaeb094252a/pydantic_settings-2.6.1-py3-none-any.whl (28 kB)\n",
      "Collecting chromadb!=0.5.4,!=0.5.5,<0.6.0,>=0.4.0 (from langchain_chroma)\n",
      "  Downloading https://pypi.tuna.tsinghua.edu.cn/packages/82/85/4d2f8b9202153105ad4514ae09e9fe6f3b353a45e44e0ef7eca03dd8b9dc/chromadb-0.5.18-py3-none-any.whl (615 kB)\n",
      "     ---------------------------------------- 0.0/615.5 kB ? eta -:--:--\n",
      "     -------------------------------------- 615.5/615.5 kB 3.2 MB/s eta 0:00:00\n",
      "Collecting fastapi<1,>=0.95.2 (from langchain_chroma)\n",
      "  Downloading https://pypi.tuna.tsinghua.edu.cn/packages/54/c4/148d5046a96c428464557264877ae5a9338a83bbe0df045088749ec89820/fastapi-0.115.5-py3-none-any.whl (94 kB)\n",
      "Collecting aiohappyeyeballs>=2.3.0 (from aiohttp<4.0.0,>=3.8.3->langchain)\n",
      "  Downloading https://pypi.tuna.tsinghua.edu.cn/packages/f7/d8/120cd0fe3e8530df0539e71ba9683eade12cae103dd7543e50d15f737917/aiohappyeyeballs-2.4.3-py3-none-any.whl (14 kB)\n",
      "Collecting aiosignal>=1.1.2 (from aiohttp<4.0.0,>=3.8.3->langchain)\n",
      "  Downloading https://pypi.tuna.tsinghua.edu.cn/packages/76/ac/a7305707cb852b7e16ff80eaf5692309bde30e2b1100a1fcacdc8f731d97/aiosignal-1.3.1-py3-none-any.whl (7.6 kB)\n",
      "Collecting attrs>=17.3.0 (from aiohttp<4.0.0,>=3.8.3->langchain)\n",
      "  Downloading https://pypi.tuna.tsinghua.edu.cn/packages/6a/21/5b6702a7f963e95456c0de2d495f67bf5fd62840ac655dc451586d23d39a/attrs-24.2.0-py3-none-any.whl (63 kB)\n",
      "Collecting frozenlist>=1.1.1 (from aiohttp<4.0.0,>=3.8.3->langchain)\n",
      "  Downloading https://pypi.tuna.tsinghua.edu.cn/packages/28/2f/cc27d5f43e023d21fe5c19538e08894db3d7e081cbf582ad5ed366c24446/frozenlist-1.5.0-cp310-cp310-win_amd64.whl (51 kB)\n",
      "Collecting multidict<7.0,>=4.5 (from aiohttp<4.0.0,>=3.8.3->langchain)\n",
      "  Downloading https://pypi.tuna.tsinghua.edu.cn/packages/04/5a/d88cd5d00a184e1ddffc82aa2e6e915164a6d2641ed3606e766b5d2f275a/multidict-6.1.0-cp310-cp310-win_amd64.whl (28 kB)\n",
      "Collecting propcache>=0.2.0 (from aiohttp<4.0.0,>=3.8.3->langchain)\n",
      "  Downloading https://pypi.tuna.tsinghua.edu.cn/packages/bb/44/6c2add5eeafb7f31ff0d25fbc005d930bea040a1364cf0f5768750ddf4d1/propcache-0.2.0-cp310-cp310-win_amd64.whl (44 kB)\n",
      "Collecting yarl<2.0,>=1.17.0 (from aiohttp<4.0.0,>=3.8.3->langchain)\n",
      "  Downloading https://pypi.tuna.tsinghua.edu.cn/packages/55/96/4dcb7110ae4cd53768254fb50ace7bca00e110459e6eff1d16983c513219/yarl-1.17.1-cp310-cp310-win_amd64.whl (89 kB)\n",
      "Collecting build>=1.0.3 (from chromadb!=0.5.4,!=0.5.5,<0.6.0,>=0.4.0->langchain_chroma)\n",
      "  Downloading https://pypi.tuna.tsinghua.edu.cn/packages/84/c2/80633736cd183ee4a62107413def345f7e6e3c01563dbca1417363cf957e/build-1.2.2.post1-py3-none-any.whl (22 kB)\n",
      "Collecting chroma-hnswlib==0.7.6 (from chromadb!=0.5.4,!=0.5.5,<0.6.0,>=0.4.0->langchain_chroma)\n",
      "  Downloading https://pypi.tuna.tsinghua.edu.cn/packages/d6/63/ee3e8b7a8f931918755faacf783093b61f32f59042769d9db615999c3de0/chroma_hnswlib-0.7.6-cp310-cp310-win_amd64.whl (150 kB)\n",
      "Collecting uvicorn>=0.18.3 (from uvicorn[standard]>=0.18.3->chromadb!=0.5.4,!=0.5.5,<0.6.0,>=0.4.0->langchain_chroma)\n",
      "  Downloading https://pypi.tuna.tsinghua.edu.cn/packages/eb/14/78bd0e95dd2444b6caacbca2b730671d4295ccb628ef58b81bee903629df/uvicorn-0.32.0-py3-none-any.whl (63 kB)\n",
      "Collecting posthog>=2.4.0 (from chromadb!=0.5.4,!=0.5.5,<0.6.0,>=0.4.0->langchain_chroma)\n",
      "  Downloading https://pypi.tuna.tsinghua.edu.cn/packages/c2/11/a8d4283b324cda992fbb72611c46c5c68f87902a10383dba1bde91660cc6/posthog-3.7.0-py2.py3-none-any.whl (54 kB)\n",
      "Requirement already satisfied: typing-extensions>=4.5.0 in e:\\code\\github\\djangopeng\\openai-quickstart\\.venv\\lib\\site-packages (from chromadb!=0.5.4,!=0.5.5,<0.6.0,>=0.4.0->langchain_chroma) (4.12.2)\n",
      "Collecting onnxruntime>=1.14.1 (from chromadb!=0.5.4,!=0.5.5,<0.6.0,>=0.4.0->langchain_chroma)\n",
      "  Downloading https://pypi.tuna.tsinghua.edu.cn/packages/59/ba/b67a4d5d1f47281ec6e6e49510d06fa3938fbf093fa546ef578c6e1341e3/onnxruntime-1.20.0-cp310-cp310-win_amd64.whl (11.3 MB)\n",
      "     ---------------------------------------- 0.0/11.3 MB ? eta -:--:--\n",
      "     -- ------------------------------------- 0.8/11.3 MB 4.2 MB/s eta 0:00:03\n",
      "     ------ --------------------------------- 1.8/11.3 MB 4.6 MB/s eta 0:00:03\n",
      "     ---------- ----------------------------- 2.9/11.3 MB 4.5 MB/s eta 0:00:02\n",
      "     ------------- -------------------------- 3.9/11.3 MB 4.6 MB/s eta 0:00:02\n",
      "     ----------------- ---------------------- 5.0/11.3 MB 4.8 MB/s eta 0:00:02\n",
      "     --------------------- ------------------ 6.0/11.3 MB 4.9 MB/s eta 0:00:02\n",
      "     ------------------------- -------------- 7.3/11.3 MB 5.0 MB/s eta 0:00:01\n",
      "     ----------------------------- ---------- 8.4/11.3 MB 5.1 MB/s eta 0:00:01\n",
      "     --------------------------------- ------ 9.4/11.3 MB 5.1 MB/s eta 0:00:01\n",
      "     ------------------------------------- -- 10.5/11.3 MB 5.0 MB/s eta 0:00:01\n",
      "     ---------------------------------------- 11.3/11.3 MB 5.0 MB/s eta 0:00:00\n",
      "Collecting opentelemetry-api>=1.2.0 (from chromadb!=0.5.4,!=0.5.5,<0.6.0,>=0.4.0->langchain_chroma)\n",
      "  Downloading https://pypi.tuna.tsinghua.edu.cn/packages/d5/39/7a9c2fde8e0309e9fd339aa953110a49ebbdf8797eb497d8357f1933ec5d/opentelemetry_api-1.28.1-py3-none-any.whl (64 kB)\n",
      "Collecting opentelemetry-exporter-otlp-proto-grpc>=1.2.0 (from chromadb!=0.5.4,!=0.5.5,<0.6.0,>=0.4.0->langchain_chroma)\n",
      "  Downloading https://pypi.tuna.tsinghua.edu.cn/packages/b3/a2/80d2afb742dbbb61d21e3617aa4a45dde955f46fb5881614f300baccf8f1/opentelemetry_exporter_otlp_proto_grpc-1.28.1-py3-none-any.whl (18 kB)\n",
      "Collecting opentelemetry-instrumentation-fastapi>=0.41b0 (from chromadb!=0.5.4,!=0.5.5,<0.6.0,>=0.4.0->langchain_chroma)\n",
      "  Downloading https://pypi.tuna.tsinghua.edu.cn/packages/17/9a/dcd672be2bb9279e76b85d51ea895260466fc1353eb9cbc07f430fd6f330/opentelemetry_instrumentation_fastapi-0.49b1-py3-none-any.whl (12 kB)\n",
      "Collecting opentelemetry-sdk>=1.2.0 (from chromadb!=0.5.4,!=0.5.5,<0.6.0,>=0.4.0->langchain_chroma)\n",
      "  Downloading https://pypi.tuna.tsinghua.edu.cn/packages/7c/f3/09e86288ee3aace7306b2778127565f64c53d6ec1634dd67d128848d5a4f/opentelemetry_sdk-1.28.1-py3-none-any.whl (118 kB)\n",
      "Collecting tokenizers>=0.13.2 (from chromadb!=0.5.4,!=0.5.5,<0.6.0,>=0.4.0->langchain_chroma)\n",
      "  Downloading https://pypi.tuna.tsinghua.edu.cn/packages/47/62/aaf5b2a526b3b10c20985d9568ff8c8f27159345eaef3347831e78cd5894/tokenizers-0.20.3-cp310-none-win_amd64.whl (2.4 MB)\n",
      "     ---------------------------------------- 0.0/2.4 MB ? eta -:--:--\n",
      "     ----------------- ---------------------- 1.0/2.4 MB 5.6 MB/s eta 0:00:01\n",
      "     ----------------------------------- ---- 2.1/2.4 MB 5.6 MB/s eta 0:00:01\n",
      "     ---------------------------------------- 2.4/2.4 MB 5.0 MB/s eta 0:00:00\n",
      "Collecting pypika>=0.48.9 (from chromadb!=0.5.4,!=0.5.5,<0.6.0,>=0.4.0->langchain_chroma)\n",
      "  Downloading https://pypi.tuna.tsinghua.edu.cn/packages/c7/2c/94ed7b91db81d61d7096ac8f2d325ec562fc75e35f3baea8749c85b28784/PyPika-0.48.9.tar.gz (67 kB)\n",
      "  Installing build dependencies: started\n",
      "  Installing build dependencies: finished with status 'done'\n",
      "  Getting requirements to build wheel: started\n",
      "  Getting requirements to build wheel: finished with status 'done'\n",
      "  Preparing metadata (pyproject.toml): started\n",
      "  Preparing metadata (pyproject.toml): finished with status 'done'\n",
      "Collecting tqdm>=4.65.0 (from chromadb!=0.5.4,!=0.5.5,<0.6.0,>=0.4.0->langchain_chroma)\n",
      "  Downloading https://pypi.tuna.tsinghua.edu.cn/packages/2b/78/57043611a16c655c8350b4c01b8d6abfb38cc2acb475238b62c2146186d7/tqdm-4.67.0-py3-none-any.whl (78 kB)\n",
      "Collecting overrides>=7.3.1 (from chromadb!=0.5.4,!=0.5.5,<0.6.0,>=0.4.0->langchain_chroma)\n",
      "  Downloading https://pypi.tuna.tsinghua.edu.cn/packages/2c/ab/fc8290c6a4c722e5514d80f62b2dc4c4df1a68a41d1364e625c35990fcf3/overrides-7.7.0-py3-none-any.whl (17 kB)\n",
      "Collecting importlib-resources (from chromadb!=0.5.4,!=0.5.5,<0.6.0,>=0.4.0->langchain_chroma)\n",
      "  Downloading https://pypi.tuna.tsinghua.edu.cn/packages/e1/6a/4604f9ae2fa62ef47b9de2fa5ad599589d28c9fd1d335f32759813dfa91e/importlib_resources-6.4.5-py3-none-any.whl (36 kB)\n",
      "Collecting grpcio>=1.58.0 (from chromadb!=0.5.4,!=0.5.5,<0.6.0,>=0.4.0->langchain_chroma)\n",
      "  Downloading https://pypi.tuna.tsinghua.edu.cn/packages/ce/de/7c783b8cb8f02c667ca075c49680c4aeb8b054bc69784bcb3e7c1bbf4985/grpcio-1.67.1-cp310-cp310-win_amd64.whl (4.4 MB)\n",
      "     ---------------------------------------- 0.0/4.4 MB ? eta -:--:--\n",
      "     --------- ------------------------------ 1.0/4.4 MB 6.3 MB/s eta 0:00:01\n",
      "     --------------------- ------------------ 2.4/4.4 MB 6.1 MB/s eta 0:00:01\n",
      "     --------------------------------- ------ 3.7/4.4 MB 6.2 MB/s eta 0:00:01\n",
      "     -------------------------------------- - 4.2/4.4 MB 5.6 MB/s eta 0:00:01\n",
      "     ---------------------------------------- 4.4/4.4 MB 5.0 MB/s eta 0:00:00\n",
      "Collecting bcrypt>=4.0.1 (from chromadb!=0.5.4,!=0.5.5,<0.6.0,>=0.4.0->langchain_chroma)\n",
      "  Downloading https://pypi.tuna.tsinghua.edu.cn/packages/1c/2a/c74052e54162ec639266d91539cca7cbf3d1d3b8b36afbfeaee0ea6a1702/bcrypt-4.2.0-cp39-abi3-win_amd64.whl (151 kB)\n",
      "Collecting typer>=0.9.0 (from chromadb!=0.5.4,!=0.5.5,<0.6.0,>=0.4.0->langchain_chroma)\n",
      "  Downloading https://pypi.tuna.tsinghua.edu.cn/packages/18/7e/c8bfa8cbcd3ea1d25d2beb359b5c5a3f4339a7e2e5d9e3ef3e29ba3ab3b9/typer-0.13.0-py3-none-any.whl (44 kB)\n",
      "Collecting kubernetes>=28.1.0 (from chromadb!=0.5.4,!=0.5.5,<0.6.0,>=0.4.0->langchain_chroma)\n",
      "  Downloading https://pypi.tuna.tsinghua.edu.cn/packages/fb/a8/17f5e28cecdbd6d48127c22abdb794740803491f422a11905c4569d8e139/kubernetes-31.0.0-py2.py3-none-any.whl (1.9 MB)\n",
      "     ---------------------------------------- 0.0/1.9 MB ? eta -:--:--\n",
      "     ---------------------- ----------------- 1.0/1.9 MB 5.0 MB/s eta 0:00:01\n",
      "     ---------------------------------------- 1.9/1.9 MB 5.4 MB/s eta 0:00:00\n",
      "Collecting mmh3>=4.0.1 (from chromadb!=0.5.4,!=0.5.5,<0.6.0,>=0.4.0->langchain_chroma)\n",
      "  Downloading https://pypi.tuna.tsinghua.edu.cn/packages/74/8e/4bb5ade332a87de633cda21dae09d6002d69601f2b93e9f40302ab2d9acf/mmh3-5.0.1-cp310-cp310-win_amd64.whl (39 kB)\n",
      "Collecting orjson>=3.9.12 (from chromadb!=0.5.4,!=0.5.5,<0.6.0,>=0.4.0->langchain_chroma)\n",
      "  Downloading https://pypi.tuna.tsinghua.edu.cn/packages/b7/ec/f15dc012928459cfb96ed86178d92fddb5c01847f2c53fd8be2fa62dee6c/orjson-3.10.11-cp310-none-win_amd64.whl (136 kB)\n",
      "Collecting httpx>=0.27.0 (from chromadb!=0.5.4,!=0.5.5,<0.6.0,>=0.4.0->langchain_chroma)\n",
      "  Downloading https://pypi.tuna.tsinghua.edu.cn/packages/56/95/9377bcb415797e44274b51d46e3249eba641711cf3348050f76ee7b15ffc/httpx-0.27.2-py3-none-any.whl (76 kB)\n",
      "Collecting rich>=10.11.0 (from chromadb!=0.5.4,!=0.5.5,<0.6.0,>=0.4.0->langchain_chroma)\n",
      "  Downloading https://pypi.tuna.tsinghua.edu.cn/packages/19/71/39c7c0d87f8d4e6c020a393182060eaefeeae6c01dab6a84ec346f2567df/rich-13.9.4-py3-none-any.whl (242 kB)\n",
      "Collecting marshmallow<4.0.0,>=3.18.0 (from dataclasses-json<0.7,>=0.5.7->langchain_community)\n",
      "  Downloading https://pypi.tuna.tsinghua.edu.cn/packages/ac/a7/a78ff54e67ef92a3d12126b98eb98ab8abab3de4a8c46d240c87e514d6bb/marshmallow-3.23.1-py3-none-any.whl (49 kB)\n",
      "Collecting typing-inspect<1,>=0.4.0 (from dataclasses-json<0.7,>=0.5.7->langchain_community)\n",
      "  Downloading https://pypi.tuna.tsinghua.edu.cn/packages/65/f3/107a22063bf27bdccf2024833d3445f4eea42b2e598abfbd46f6a63b6cb0/typing_inspect-0.9.0-py3-none-any.whl (8.8 kB)\n",
      "Collecting starlette<0.42.0,>=0.40.0 (from fastapi<1,>=0.95.2->langchain_chroma)\n",
      "  Downloading https://pypi.tuna.tsinghua.edu.cn/packages/54/43/f185bfd0ca1d213beb4293bed51d92254df23d8ceaf6c0e17146d508a776/starlette-0.41.2-py3-none-any.whl (73 kB)\n",
      "Collecting jsonpatch<2.0,>=1.33 (from langchain-core<0.4.0,>=0.3.15->langchain)\n",
      "  Downloading https://pypi.tuna.tsinghua.edu.cn/packages/73/07/02e16ed01e04a374e644b575638ec7987ae846d25ad97bcc9945a3ee4b0e/jsonpatch-1.33-py2.py3-none-any.whl (12 kB)\n",
      "Requirement already satisfied: packaging<25,>=23.2 in e:\\code\\github\\djangopeng\\openai-quickstart\\.venv\\lib\\site-packages (from langchain-core<0.4.0,>=0.3.15->langchain) (24.2)\n",
      "Collecting requests-toolbelt<2.0.0,>=1.0.0 (from langsmith<0.2.0,>=0.1.17->langchain)\n",
      "  Downloading https://pypi.tuna.tsinghua.edu.cn/packages/3f/51/d4db610ef29373b879047326cbf6fa98b6c1969d6f6dc423279de2b1be2c/requests_toolbelt-1.0.0-py2.py3-none-any.whl (54 kB)\n",
      "Collecting annotated-types>=0.6.0 (from pydantic<3.0.0,>=2.7.4->langchain)\n",
      "  Downloading https://pypi.tuna.tsinghua.edu.cn/packages/78/b6/6307fbef88d9b5ee7421e68d78a9f162e0da4900bc5f5793f6d3d0e34fb8/annotated_types-0.7.0-py3-none-any.whl (13 kB)\n",
      "Collecting pydantic-core==2.23.4 (from pydantic<3.0.0,>=2.7.4->langchain)\n",
      "  Downloading https://pypi.tuna.tsinghua.edu.cn/packages/de/81/7dfe464eca78d76d31dd661b04b5f2036ec72ea8848dd87ab7375e185c23/pydantic_core-2.23.4-cp310-none-win_amd64.whl (1.9 MB)\n",
      "     ---------------------------------------- 0.0/1.9 MB ? eta -:--:--\n",
      "     ---------- ----------------------------- 0.5/1.9 MB 2.8 MB/s eta 0:00:01\n",
      "     --------------------- ------------------ 1.0/1.9 MB 3.0 MB/s eta 0:00:01\n",
      "     -------------------------------------- - 1.8/1.9 MB 3.1 MB/s eta 0:00:01\n",
      "     ---------------------------------------- 1.9/1.9 MB 2.9 MB/s eta 0:00:00\n",
      "Collecting python-dotenv>=0.21.0 (from pydantic-settings<3.0.0,>=2.4.0->langchain_community)\n",
      "  Downloading https://pypi.tuna.tsinghua.edu.cn/packages/6a/3e/b68c118422ec867fa7ab88444e1274aa40681c606d59ac27de5a5588f082/python_dotenv-1.0.1-py3-none-any.whl (19 kB)\n",
      "Collecting charset-normalizer<4,>=2 (from requests<3,>=2->langchain)\n",
      "  Downloading https://pypi.tuna.tsinghua.edu.cn/packages/d6/20/f1d4670a8a723c46be695dff449d86d6092916f9e99c53051954ee33a1bc/charset_normalizer-3.4.0-cp310-cp310-win_amd64.whl (102 kB)\n",
      "Collecting idna<4,>=2.5 (from requests<3,>=2->langchain)\n",
      "  Downloading https://pypi.tuna.tsinghua.edu.cn/packages/76/c6/c88e154df9c4e1a2a66ccf0005a88dfb2650c1dffb6f5ce603dfbd452ce3/idna-3.10-py3-none-any.whl (70 kB)\n",
      "Collecting urllib3<3,>=1.21.1 (from requests<3,>=2->langchain)\n",
      "  Downloading https://pypi.tuna.tsinghua.edu.cn/packages/ce/d9/5f4c13cecde62396b0d3fe530a50ccea91e7dfc1ccf0e09c228841bb5ba8/urllib3-2.2.3-py3-none-any.whl (126 kB)\n",
      "Collecting certifi>=2017.4.17 (from requests<3,>=2->langchain)\n",
      "  Downloading https://pypi.tuna.tsinghua.edu.cn/packages/12/90/3c9ff0512038035f59d279fddeb79f5f1eccd8859f06d6163c58798b9487/certifi-2024.8.30-py3-none-any.whl (167 kB)\n",
      "Collecting greenlet!=0.4.17 (from SQLAlchemy<3,>=1.4->langchain)\n",
      "  Downloading https://pypi.tuna.tsinghua.edu.cn/packages/96/28/d62835fb33fb5652f2e98d34c44ad1a0feacc8b1d3f1aecab035f51f267d/greenlet-3.1.1-cp310-cp310-win_amd64.whl (298 kB)\n",
      "Collecting pyproject_hooks (from build>=1.0.3->chromadb!=0.5.4,!=0.5.5,<0.6.0,>=0.4.0->langchain_chroma)\n",
      "  Downloading https://pypi.tuna.tsinghua.edu.cn/packages/bd/24/12818598c362d7f300f18e74db45963dbcb85150324092410c8b49405e42/pyproject_hooks-1.2.0-py3-none-any.whl (10 kB)\n",
      "Requirement already satisfied: colorama in e:\\code\\github\\djangopeng\\openai-quickstart\\.venv\\lib\\site-packages (from build>=1.0.3->chromadb!=0.5.4,!=0.5.5,<0.6.0,>=0.4.0->langchain_chroma) (0.4.6)\n",
      "Collecting tomli>=1.1.0 (from build>=1.0.3->chromadb!=0.5.4,!=0.5.5,<0.6.0,>=0.4.0->langchain_chroma)\n",
      "  Downloading https://pypi.tuna.tsinghua.edu.cn/packages/de/f7/4da0ffe1892122c9ea096c57f64c2753ae5dd3ce85488802d11b0992cc6d/tomli-2.1.0-py3-none-any.whl (13 kB)\n",
      "Collecting anyio (from httpx>=0.27.0->chromadb!=0.5.4,!=0.5.5,<0.6.0,>=0.4.0->langchain_chroma)\n",
      "  Downloading https://pypi.tuna.tsinghua.edu.cn/packages/e4/f5/f2b75d2fc6f1a260f340f0e7c6a060f4dd2961cc16884ed851b0d18da06a/anyio-4.6.2.post1-py3-none-any.whl (90 kB)\n",
      "Collecting httpcore==1.* (from httpx>=0.27.0->chromadb!=0.5.4,!=0.5.5,<0.6.0,>=0.4.0->langchain_chroma)\n",
      "  Downloading https://pypi.tuna.tsinghua.edu.cn/packages/06/89/b161908e2f51be56568184aeb4a880fd287178d176fd1c860d2217f41106/httpcore-1.0.6-py3-none-any.whl (78 kB)\n",
      "Collecting sniffio (from httpx>=0.27.0->chromadb!=0.5.4,!=0.5.5,<0.6.0,>=0.4.0->langchain_chroma)\n",
      "  Downloading https://pypi.tuna.tsinghua.edu.cn/packages/e9/44/75a9c9421471a6c4805dbf2356f7c181a29c1879239abab1ea2cc8f38b40/sniffio-1.3.1-py3-none-any.whl (10 kB)\n",
      "Collecting h11<0.15,>=0.13 (from httpcore==1.*->httpx>=0.27.0->chromadb!=0.5.4,!=0.5.5,<0.6.0,>=0.4.0->langchain_chroma)\n",
      "  Downloading https://pypi.tuna.tsinghua.edu.cn/packages/95/04/ff642e65ad6b90db43e668d70ffb6736436c7ce41fcc549f4e9472234127/h11-0.14.0-py3-none-any.whl (58 kB)\n",
      "Collecting jsonpointer>=1.9 (from jsonpatch<2.0,>=1.33->langchain-core<0.4.0,>=0.3.15->langchain)\n",
      "  Downloading https://pypi.tuna.tsinghua.edu.cn/packages/71/92/5e77f98553e9e75130c78900d000368476aed74276eb8ae8796f65f00918/jsonpointer-3.0.0-py2.py3-none-any.whl (7.6 kB)\n",
      "Requirement already satisfied: six>=1.9.0 in e:\\code\\github\\djangopeng\\openai-quickstart\\.venv\\lib\\site-packages (from kubernetes>=28.1.0->chromadb!=0.5.4,!=0.5.5,<0.6.0,>=0.4.0->langchain_chroma) (1.16.0)\n",
      "Requirement already satisfied: python-dateutil>=2.5.3 in e:\\code\\github\\djangopeng\\openai-quickstart\\.venv\\lib\\site-packages (from kubernetes>=28.1.0->chromadb!=0.5.4,!=0.5.5,<0.6.0,>=0.4.0->langchain_chroma) (2.9.0.post0)\n",
      "Collecting google-auth>=1.0.1 (from kubernetes>=28.1.0->chromadb!=0.5.4,!=0.5.5,<0.6.0,>=0.4.0->langchain_chroma)\n",
      "  Downloading https://pypi.tuna.tsinghua.edu.cn/packages/2d/9a/3d5087d27865c2f0431b942b5c4500b7d1b744dd3262fdc973a4c39d099e/google_auth-2.36.0-py2.py3-none-any.whl (209 kB)\n",
      "Collecting websocket-client!=0.40.0,!=0.41.*,!=0.42.*,>=0.32.0 (from kubernetes>=28.1.0->chromadb!=0.5.4,!=0.5.5,<0.6.0,>=0.4.0->langchain_chroma)\n",
      "  Downloading https://pypi.tuna.tsinghua.edu.cn/packages/5a/84/44687a29792a70e111c5c477230a72c4b957d88d16141199bf9acb7537a3/websocket_client-1.8.0-py3-none-any.whl (58 kB)\n",
      "Collecting requests-oauthlib (from kubernetes>=28.1.0->chromadb!=0.5.4,!=0.5.5,<0.6.0,>=0.4.0->langchain_chroma)\n",
      "  Downloading https://pypi.tuna.tsinghua.edu.cn/packages/3b/5d/63d4ae3b9daea098d5d6f5da83984853c1bbacd5dc826764b249fe119d24/requests_oauthlib-2.0.0-py2.py3-none-any.whl (24 kB)\n",
      "Collecting oauthlib>=3.2.2 (from kubernetes>=28.1.0->chromadb!=0.5.4,!=0.5.5,<0.6.0,>=0.4.0->langchain_chroma)\n",
      "  Downloading https://pypi.tuna.tsinghua.edu.cn/packages/7e/80/cab10959dc1faead58dc8384a781dfbf93cb4d33d50988f7a69f1b7c9bbe/oauthlib-3.2.2-py3-none-any.whl (151 kB)\n",
      "Collecting durationpy>=0.7 (from kubernetes>=28.1.0->chromadb!=0.5.4,!=0.5.5,<0.6.0,>=0.4.0->langchain_chroma)\n",
      "  Downloading https://pypi.tuna.tsinghua.edu.cn/packages/4c/a3/ac312faeceffd2d8f86bc6dcb5c401188ba5a01bc88e69bed97578a0dfcd/durationpy-0.9-py3-none-any.whl (3.5 kB)\n",
      "Collecting coloredlogs (from onnxruntime>=1.14.1->chromadb!=0.5.4,!=0.5.5,<0.6.0,>=0.4.0->langchain_chroma)\n",
      "  Downloading https://pypi.tuna.tsinghua.edu.cn/packages/a7/06/3d6badcf13db419e25b07041d9c7b4a2c331d3f4e7134445ec5df57714cd/coloredlogs-15.0.1-py2.py3-none-any.whl (46 kB)\n",
      "Collecting flatbuffers (from onnxruntime>=1.14.1->chromadb!=0.5.4,!=0.5.5,<0.6.0,>=0.4.0->langchain_chroma)\n",
      "  Downloading https://pypi.tuna.tsinghua.edu.cn/packages/41/f0/7e988a019bc54b2dbd0ad4182ef2d53488bb02e58694cd79d61369e85900/flatbuffers-24.3.25-py2.py3-none-any.whl (26 kB)\n",
      "Collecting protobuf (from onnxruntime>=1.14.1->chromadb!=0.5.4,!=0.5.5,<0.6.0,>=0.4.0->langchain_chroma)\n",
      "  Downloading https://pypi.tuna.tsinghua.edu.cn/packages/9c/4c/4563ebe001ff30dca9d7ed12e471fa098d9759712980cde1fd03a3a44fb7/protobuf-5.28.3-cp310-abi3-win_amd64.whl (431 kB)\n",
      "Collecting sympy (from onnxruntime>=1.14.1->chromadb!=0.5.4,!=0.5.5,<0.6.0,>=0.4.0->langchain_chroma)\n",
      "  Downloading https://pypi.tuna.tsinghua.edu.cn/packages/99/ff/c87e0622b1dadea79d2fb0b25ade9ed98954c9033722eb707053d310d4f3/sympy-1.13.3-py3-none-any.whl (6.2 MB)\n",
      "     ---------------------------------------- 0.0/6.2 MB ? eta -:--:--\n",
      "     - -------------------------------------- 0.3/6.2 MB ? eta -:--:--\n",
      "     ----- ---------------------------------- 0.8/6.2 MB 2.1 MB/s eta 0:00:03\n",
      "     -------- ------------------------------- 1.3/6.2 MB 2.2 MB/s eta 0:00:03\n",
      "     ----------- ---------------------------- 1.8/6.2 MB 2.3 MB/s eta 0:00:02\n",
      "     --------------- ------------------------ 2.4/6.2 MB 2.4 MB/s eta 0:00:02\n",
      "     -------------------- ------------------- 3.1/6.2 MB 2.5 MB/s eta 0:00:02\n",
      "     ----------------------- ---------------- 3.7/6.2 MB 2.6 MB/s eta 0:00:01\n",
      "     ---------------------------- ----------- 4.5/6.2 MB 2.8 MB/s eta 0:00:01\n",
      "     --------------------------------- ------ 5.2/6.2 MB 2.9 MB/s eta 0:00:01\n",
      "     ---------------------------------------- 6.2/6.2 MB 3.0 MB/s eta 0:00:00\n",
      "Collecting deprecated>=1.2.6 (from opentelemetry-api>=1.2.0->chromadb!=0.5.4,!=0.5.5,<0.6.0,>=0.4.0->langchain_chroma)\n",
      "  Downloading https://pypi.tuna.tsinghua.edu.cn/packages/20/8d/778b7d51b981a96554f29136cd59ca7880bf58094338085bcf2a979a0e6a/Deprecated-1.2.14-py2.py3-none-any.whl (9.6 kB)\n",
      "Collecting importlib-metadata<=8.5.0,>=6.0 (from opentelemetry-api>=1.2.0->chromadb!=0.5.4,!=0.5.5,<0.6.0,>=0.4.0->langchain_chroma)\n",
      "  Downloading https://pypi.tuna.tsinghua.edu.cn/packages/a0/d9/a1e041c5e7caa9a05c925f4bdbdfb7f006d1f74996af53467bc394c97be7/importlib_metadata-8.5.0-py3-none-any.whl (26 kB)\n",
      "Collecting googleapis-common-protos~=1.52 (from opentelemetry-exporter-otlp-proto-grpc>=1.2.0->chromadb!=0.5.4,!=0.5.5,<0.6.0,>=0.4.0->langchain_chroma)\n",
      "  Downloading https://pypi.tuna.tsinghua.edu.cn/packages/a0/0f/c0713fb2b3d28af4b2fded3291df1c4d4f79a00d15c2374a9e010870016c/googleapis_common_protos-1.66.0-py2.py3-none-any.whl (221 kB)\n",
      "Collecting opentelemetry-exporter-otlp-proto-common==1.28.1 (from opentelemetry-exporter-otlp-proto-grpc>=1.2.0->chromadb!=0.5.4,!=0.5.5,<0.6.0,>=0.4.0->langchain_chroma)\n",
      "  Downloading https://pypi.tuna.tsinghua.edu.cn/packages/2a/b1/33d69035e87fbd7c962be00315c3ea2567a6a45be71946d2b3bf008719b3/opentelemetry_exporter_otlp_proto_common-1.28.1-py3-none-any.whl (18 kB)\n",
      "Collecting opentelemetry-proto==1.28.1 (from opentelemetry-exporter-otlp-proto-grpc>=1.2.0->chromadb!=0.5.4,!=0.5.5,<0.6.0,>=0.4.0->langchain_chroma)\n",
      "  Downloading https://pypi.tuna.tsinghua.edu.cn/packages/3b/cb/272d2ef811dba0b98d7dcd23687900d8ba6855fd289119c4cf44c1dc77c7/opentelemetry_proto-1.28.1-py3-none-any.whl (55 kB)\n",
      "Collecting opentelemetry-instrumentation-asgi==0.49b1 (from opentelemetry-instrumentation-fastapi>=0.41b0->chromadb!=0.5.4,!=0.5.5,<0.6.0,>=0.4.0->langchain_chroma)\n",
      "  Downloading https://pypi.tuna.tsinghua.edu.cn/packages/2e/e1/8beef3d2cbe83b12e03f9aff20ccf3624b627b4cf49859492f5489f1d637/opentelemetry_instrumentation_asgi-0.49b1-py3-none-any.whl (16 kB)\n",
      "Collecting opentelemetry-instrumentation==0.49b1 (from opentelemetry-instrumentation-fastapi>=0.41b0->chromadb!=0.5.4,!=0.5.5,<0.6.0,>=0.4.0->langchain_chroma)\n",
      "  Downloading https://pypi.tuna.tsinghua.edu.cn/packages/ca/98/9c40915677f24b6bd0bd4ec6e84f929815a581d78cd67eab5213c630c6b6/opentelemetry_instrumentation-0.49b1-py3-none-any.whl (30 kB)\n",
      "Collecting opentelemetry-semantic-conventions==0.49b1 (from opentelemetry-instrumentation-fastapi>=0.41b0->chromadb!=0.5.4,!=0.5.5,<0.6.0,>=0.4.0->langchain_chroma)\n",
      "  Downloading https://pypi.tuna.tsinghua.edu.cn/packages/04/1d/01ad9c2a8f8346258bf87c20fc024c8baa410492e2c6b397140383381a28/opentelemetry_semantic_conventions-0.49b1-py3-none-any.whl (159 kB)\n",
      "Collecting opentelemetry-util-http==0.49b1 (from opentelemetry-instrumentation-fastapi>=0.41b0->chromadb!=0.5.4,!=0.5.5,<0.6.0,>=0.4.0->langchain_chroma)\n",
      "  Downloading https://pypi.tuna.tsinghua.edu.cn/packages/74/f6/911f49a8ebac7986d839bbfd9fd813db00e8305878f7d04cd9a0747021e0/opentelemetry_util_http-0.49b1-py3-none-any.whl (6.9 kB)\n",
      "Collecting wrapt<2.0.0,>=1.0.0 (from opentelemetry-instrumentation==0.49b1->opentelemetry-instrumentation-fastapi>=0.41b0->chromadb!=0.5.4,!=0.5.5,<0.6.0,>=0.4.0->langchain_chroma)\n",
      "  Downloading https://pypi.tuna.tsinghua.edu.cn/packages/19/2b/548d23362e3002ebbfaefe649b833fa43f6ca37ac3e95472130c4b69e0b4/wrapt-1.16.0-cp310-cp310-win_amd64.whl (37 kB)\n",
      "Collecting asgiref~=3.0 (from opentelemetry-instrumentation-asgi==0.49b1->opentelemetry-instrumentation-fastapi>=0.41b0->chromadb!=0.5.4,!=0.5.5,<0.6.0,>=0.4.0->langchain_chroma)\n",
      "  Downloading https://pypi.tuna.tsinghua.edu.cn/packages/39/e3/893e8757be2612e6c266d9bb58ad2e3651524b5b40cf56761e985a28b13e/asgiref-3.8.1-py3-none-any.whl (23 kB)\n",
      "Collecting monotonic>=1.5 (from posthog>=2.4.0->chromadb!=0.5.4,!=0.5.5,<0.6.0,>=0.4.0->langchain_chroma)\n",
      "  Downloading https://pypi.tuna.tsinghua.edu.cn/packages/9a/67/7e8406a29b6c45be7af7740456f7f37025f0506ae2e05fb9009a53946860/monotonic-1.6-py2.py3-none-any.whl (8.2 kB)\n",
      "Collecting backoff>=1.10.0 (from posthog>=2.4.0->chromadb!=0.5.4,!=0.5.5,<0.6.0,>=0.4.0->langchain_chroma)\n",
      "  Downloading https://pypi.tuna.tsinghua.edu.cn/packages/df/73/b6e24bd22e6720ca8ee9a85a0c4a2971af8497d8f3193fa05390cbd46e09/backoff-2.2.1-py3-none-any.whl (15 kB)\n",
      "Collecting markdown-it-py>=2.2.0 (from rich>=10.11.0->chromadb!=0.5.4,!=0.5.5,<0.6.0,>=0.4.0->langchain_chroma)\n",
      "  Downloading https://pypi.tuna.tsinghua.edu.cn/packages/42/d7/1ec15b46af6af88f19b8e5ffea08fa375d433c998b8a7639e76935c14f1f/markdown_it_py-3.0.0-py3-none-any.whl (87 kB)\n",
      "Requirement already satisfied: pygments<3.0.0,>=2.13.0 in e:\\code\\github\\djangopeng\\openai-quickstart\\.venv\\lib\\site-packages (from rich>=10.11.0->chromadb!=0.5.4,!=0.5.5,<0.6.0,>=0.4.0->langchain_chroma) (2.18.0)\n",
      "Collecting huggingface-hub<1.0,>=0.16.4 (from tokenizers>=0.13.2->chromadb!=0.5.4,!=0.5.5,<0.6.0,>=0.4.0->langchain_chroma)\n",
      "  Downloading https://pypi.tuna.tsinghua.edu.cn/packages/60/bf/cea0b9720c32fa01b0c4ec4b16b9f4ae34ca106b202ebbae9f03ab98cd8f/huggingface_hub-0.26.2-py3-none-any.whl (447 kB)\n",
      "Collecting click>=8.0.0 (from typer>=0.9.0->chromadb!=0.5.4,!=0.5.5,<0.6.0,>=0.4.0->langchain_chroma)\n",
      "  Downloading https://pypi.tuna.tsinghua.edu.cn/packages/00/2e/d53fa4befbf2cfa713304affc7ca780ce4fc1fd8710527771b58311a3229/click-8.1.7-py3-none-any.whl (97 kB)\n",
      "Collecting shellingham>=1.3.0 (from typer>=0.9.0->chromadb!=0.5.4,!=0.5.5,<0.6.0,>=0.4.0->langchain_chroma)\n",
      "  Downloading https://pypi.tuna.tsinghua.edu.cn/packages/e0/f9/0595336914c5619e5f28a1fb793285925a8cd4b432c9da0a987836c7f822/shellingham-1.5.4-py2.py3-none-any.whl (9.8 kB)\n",
      "Collecting mypy-extensions>=0.3.0 (from typing-inspect<1,>=0.4.0->dataclasses-json<0.7,>=0.5.7->langchain_community)\n",
      "  Downloading https://pypi.tuna.tsinghua.edu.cn/packages/2a/e2/5d3f6ada4297caebe1a2add3b126fe800c96f56dbe5d1988a2cbe0b267aa/mypy_extensions-1.0.0-py3-none-any.whl (4.7 kB)\n",
      "Collecting httptools>=0.5.0 (from uvicorn[standard]>=0.18.3->chromadb!=0.5.4,!=0.5.5,<0.6.0,>=0.4.0->langchain_chroma)\n",
      "  Downloading https://pypi.tuna.tsinghua.edu.cn/packages/75/73/187a3f620ed3175364ddb56847d7a608a6fc42d551e133197098c0143eca/httptools-0.6.4-cp310-cp310-win_amd64.whl (88 kB)\n",
      "Collecting watchfiles>=0.13 (from uvicorn[standard]>=0.18.3->chromadb!=0.5.4,!=0.5.5,<0.6.0,>=0.4.0->langchain_chroma)\n",
      "  Downloading https://pypi.tuna.tsinghua.edu.cn/packages/fe/1b/5148898ba55fc9c111a2a4a5fb67ad3fa7eb2b3d7f0618241ed88749313d/watchfiles-0.24.0-cp310-none-win_amd64.whl (277 kB)\n",
      "Collecting websockets>=10.4 (from uvicorn[standard]>=0.18.3->chromadb!=0.5.4,!=0.5.5,<0.6.0,>=0.4.0->langchain_chroma)\n",
      "  Downloading https://pypi.tuna.tsinghua.edu.cn/packages/8a/67/59828a3d09740e6a485acccfbb66600632f2178b6ed1b61388ee96f17d5a/websockets-14.1-cp310-cp310-win_amd64.whl (163 kB)\n",
      "Requirement already satisfied: exceptiongroup>=1.0.2 in e:\\code\\github\\djangopeng\\openai-quickstart\\.venv\\lib\\site-packages (from anyio->httpx>=0.27.0->chromadb!=0.5.4,!=0.5.5,<0.6.0,>=0.4.0->langchain_chroma) (1.2.2)\n",
      "Collecting cachetools<6.0,>=2.0.0 (from google-auth>=1.0.1->kubernetes>=28.1.0->chromadb!=0.5.4,!=0.5.5,<0.6.0,>=0.4.0->langchain_chroma)\n",
      "  Downloading https://pypi.tuna.tsinghua.edu.cn/packages/a4/07/14f8ad37f2d12a5ce41206c21820d8cb6561b728e51fad4530dff0552a67/cachetools-5.5.0-py3-none-any.whl (9.5 kB)\n",
      "Collecting pyasn1-modules>=0.2.1 (from google-auth>=1.0.1->kubernetes>=28.1.0->chromadb!=0.5.4,!=0.5.5,<0.6.0,>=0.4.0->langchain_chroma)\n",
      "  Downloading https://pypi.tuna.tsinghua.edu.cn/packages/77/89/bc88a6711935ba795a679ea6ebee07e128050d6382eaa35a0a47c8032bdc/pyasn1_modules-0.4.1-py3-none-any.whl (181 kB)\n",
      "Collecting rsa<5,>=3.1.4 (from google-auth>=1.0.1->kubernetes>=28.1.0->chromadb!=0.5.4,!=0.5.5,<0.6.0,>=0.4.0->langchain_chroma)\n",
      "  Downloading https://pypi.tuna.tsinghua.edu.cn/packages/49/97/fa78e3d2f65c02c8e1268b9aba606569fe97f6c8f7c2d74394553347c145/rsa-4.9-py3-none-any.whl (34 kB)\n",
      "Collecting filelock (from huggingface-hub<1.0,>=0.16.4->tokenizers>=0.13.2->chromadb!=0.5.4,!=0.5.5,<0.6.0,>=0.4.0->langchain_chroma)\n",
      "  Downloading https://pypi.tuna.tsinghua.edu.cn/packages/b9/f8/feced7779d755758a52d1f6635d990b8d98dc0a29fa568bbe0625f18fdf3/filelock-3.16.1-py3-none-any.whl (16 kB)\n",
      "Collecting fsspec>=2023.5.0 (from huggingface-hub<1.0,>=0.16.4->tokenizers>=0.13.2->chromadb!=0.5.4,!=0.5.5,<0.6.0,>=0.4.0->langchain_chroma)\n",
      "  Downloading https://pypi.tuna.tsinghua.edu.cn/packages/c6/b2/454d6e7f0158951d8a78c2e1eb4f69ae81beb8dca5fee9809c6c99e9d0d0/fsspec-2024.10.0-py3-none-any.whl (179 kB)\n",
      "Collecting zipp>=3.20 (from importlib-metadata<=8.5.0,>=6.0->opentelemetry-api>=1.2.0->chromadb!=0.5.4,!=0.5.5,<0.6.0,>=0.4.0->langchain_chroma)\n",
      "  Downloading https://pypi.tuna.tsinghua.edu.cn/packages/b7/1a/7e4798e9339adc931158c9d69ecc34f5e6791489d469f5e50ec15e35f458/zipp-3.21.0-py3-none-any.whl (9.6 kB)\n",
      "Collecting mdurl~=0.1 (from markdown-it-py>=2.2.0->rich>=10.11.0->chromadb!=0.5.4,!=0.5.5,<0.6.0,>=0.4.0->langchain_chroma)\n",
      "  Downloading https://pypi.tuna.tsinghua.edu.cn/packages/b3/38/89ba8ad64ae25be8de66a6d463314cf1eb366222074cfda9ee839c56a4b4/mdurl-0.1.2-py3-none-any.whl (10.0 kB)\n",
      "Collecting humanfriendly>=9.1 (from coloredlogs->onnxruntime>=1.14.1->chromadb!=0.5.4,!=0.5.5,<0.6.0,>=0.4.0->langchain_chroma)\n",
      "  Downloading https://pypi.tuna.tsinghua.edu.cn/packages/f0/0f/310fb31e39e2d734ccaa2c0fb981ee41f7bd5056ce9bc29b2248bd569169/humanfriendly-10.0-py2.py3-none-any.whl (86 kB)\n",
      "Collecting mpmath<1.4,>=1.1.0 (from sympy->onnxruntime>=1.14.1->chromadb!=0.5.4,!=0.5.5,<0.6.0,>=0.4.0->langchain_chroma)\n",
      "  Downloading https://pypi.tuna.tsinghua.edu.cn/packages/43/e3/7d92a15f894aa0c9c4b49b8ee9ac9850d6e63b03c9c32c0367a13ae62209/mpmath-1.3.0-py3-none-any.whl (536 kB)\n",
      "     ---------------------------------------- 0.0/536.2 kB ? eta -:--:--\n",
      "     ------------------- -------------------- 262.1/536.2 kB ? eta -:--:--\n",
      "     -------------------------------------- 536.2/536.2 kB 2.2 MB/s eta 0:00:00\n",
      "Collecting pyreadline3 (from humanfriendly>=9.1->coloredlogs->onnxruntime>=1.14.1->chromadb!=0.5.4,!=0.5.5,<0.6.0,>=0.4.0->langchain_chroma)\n",
      "  Downloading https://pypi.tuna.tsinghua.edu.cn/packages/5a/dc/491b7661614ab97483abf2056be1deee4dc2490ecbf7bff9ab5cdbac86e1/pyreadline3-3.5.4-py3-none-any.whl (83 kB)\n",
      "Collecting pyasn1<0.7.0,>=0.4.6 (from pyasn1-modules>=0.2.1->google-auth>=1.0.1->kubernetes>=28.1.0->chromadb!=0.5.4,!=0.5.5,<0.6.0,>=0.4.0->langchain_chroma)\n",
      "  Downloading https://pypi.tuna.tsinghua.edu.cn/packages/c8/f1/d6a797abb14f6283c0ddff96bbdd46937f64122b8c925cab503dd37f8214/pyasn1-0.6.1-py3-none-any.whl (83 kB)\n",
      "Building wheels for collected packages: pypika\n",
      "  Building wheel for pypika (pyproject.toml): started\n",
      "  Building wheel for pypika (pyproject.toml): finished with status 'done'\n",
      "  Created wheel for pypika: filename=PyPika-0.48.9-py2.py3-none-any.whl size=53836 sha256=bd8b2bf755e283acb9de1d9f0581be3724259b4da6a82f23f26e9a319415d1f3\n",
      "  Stored in directory: c:\\users\\liufeng\\appdata\\local\\pip\\cache\\wheels\\06\\08\\01\\e1ce9a2b2e9e51d8540e77461c4cc395c902b9020c296aae50\n",
      "Successfully built pypika\n",
      "Installing collected packages: pypika, mpmath, monotonic, flatbuffers, durationpy, zipp, wrapt, websockets, websocket-client, urllib3, tqdm, tomli, tenacity, sympy, sniffio, shellingham, PyYAML, python-dotenv, pyreadline3, pyproject_hooks, pydantic-core, pyasn1, protobuf, propcache, overrides, orjson, opentelemetry-util-http, oauthlib, numpy, mypy-extensions, multidict, mmh3, mdurl, marshmallow, jsonpointer, importlib-resources, idna, httpx-sse, httptools, h11, grpcio, greenlet, fsspec, frozenlist, filelock, click, charset-normalizer, certifi, cachetools, bcrypt, backoff, attrs, async-timeout, asgiref, annotated-types, aiohappyeyeballs, yarl, uvicorn, typing-inspect, SQLAlchemy, rsa, requests, pydantic, pyasn1-modules, opentelemetry-proto, markdown-it-py, jsonpatch, importlib-metadata, humanfriendly, httpcore, googleapis-common-protos, deprecated, chroma-hnswlib, build, anyio, aiosignal, watchfiles, starlette, rich, requests-toolbelt, requests-oauthlib, pydantic-settings, posthog, opentelemetry-exporter-otlp-proto-common, opentelemetry-api, huggingface-hub, httpx, google-auth, dataclasses-json, coloredlogs, aiohttp, typer, tokenizers, opentelemetry-semantic-conventions, onnxruntime, langsmith, kubernetes, fastapi, opentelemetry-sdk, opentelemetry-instrumentation, langchain-core, opentelemetry-instrumentation-asgi, opentelemetry-exporter-otlp-proto-grpc, langchain-text-splitters, opentelemetry-instrumentation-fastapi, langchain, langchain_community, chromadb, langchain_chroma\n",
      "Successfully installed PyYAML-6.0.2 SQLAlchemy-2.0.35 aiohappyeyeballs-2.4.3 aiohttp-3.11.0 aiosignal-1.3.1 annotated-types-0.7.0 anyio-4.6.2.post1 asgiref-3.8.1 async-timeout-4.0.3 attrs-24.2.0 backoff-2.2.1 bcrypt-4.2.0 build-1.2.2.post1 cachetools-5.5.0 certifi-2024.8.30 charset-normalizer-3.4.0 chroma-hnswlib-0.7.6 chromadb-0.5.18 click-8.1.7 coloredlogs-15.0.1 dataclasses-json-0.6.7 deprecated-1.2.14 durationpy-0.9 fastapi-0.115.5 filelock-3.16.1 flatbuffers-24.3.25 frozenlist-1.5.0 fsspec-2024.10.0 google-auth-2.36.0 googleapis-common-protos-1.66.0 greenlet-3.1.1 grpcio-1.67.1 h11-0.14.0 httpcore-1.0.6 httptools-0.6.4 httpx-0.27.2 httpx-sse-0.4.0 huggingface-hub-0.26.2 humanfriendly-10.0 idna-3.10 importlib-metadata-8.5.0 importlib-resources-6.4.5 jsonpatch-1.33 jsonpointer-3.0.0 kubernetes-31.0.0 langchain-0.3.7 langchain-core-0.3.18 langchain-text-splitters-0.3.2 langchain_chroma-0.1.4 langchain_community-0.3.7 langsmith-0.1.143 markdown-it-py-3.0.0 marshmallow-3.23.1 mdurl-0.1.2 mmh3-5.0.1 monotonic-1.6 mpmath-1.3.0 multidict-6.1.0 mypy-extensions-1.0.0 numpy-1.26.4 oauthlib-3.2.2 onnxruntime-1.20.0 opentelemetry-api-1.28.1 opentelemetry-exporter-otlp-proto-common-1.28.1 opentelemetry-exporter-otlp-proto-grpc-1.28.1 opentelemetry-instrumentation-0.49b1 opentelemetry-instrumentation-asgi-0.49b1 opentelemetry-instrumentation-fastapi-0.49b1 opentelemetry-proto-1.28.1 opentelemetry-sdk-1.28.1 opentelemetry-semantic-conventions-0.49b1 opentelemetry-util-http-0.49b1 orjson-3.10.11 overrides-7.7.0 posthog-3.7.0 propcache-0.2.0 protobuf-5.28.3 pyasn1-0.6.1 pyasn1-modules-0.4.1 pydantic-2.9.2 pydantic-core-2.23.4 pydantic-settings-2.6.1 pypika-0.48.9 pyproject_hooks-1.2.0 pyreadline3-3.5.4 python-dotenv-1.0.1 requests-2.32.3 requests-oauthlib-2.0.0 requests-toolbelt-1.0.0 rich-13.9.4 rsa-4.9 shellingham-1.5.4 sniffio-1.3.1 starlette-0.41.2 sympy-1.13.3 tenacity-9.0.0 tokenizers-0.20.3 tomli-2.1.0 tqdm-4.67.0 typer-0.13.0 typing-inspect-0.9.0 urllib3-2.2.3 uvicorn-0.32.0 watchfiles-0.24.0 websocket-client-1.8.0 websockets-14.1 wrapt-1.16.0 yarl-1.17.1 zipp-3.21.0\n"
     ]
    }
   ],
   "source": [
    "!pip install langchain langchain_community langchain_chroma"
   ]
  },
  {
   "cell_type": "markdown",
   "id": "697b363d-c56e-420e-b8c1-76420b6cfa46",
   "metadata": {},
   "source": [
    "## **RAG 开发指南**\n",
    "\n",
    "**本指南将详细介绍如何使用 LangChain 框架构建一个基于检索增强生成 (RAG) 的应用。**\n",
    "\n",
    "下面是基于 LangChain 实现的 RAG 的核心步骤与使用到的关键代码抽象（类型、方法、库等）:\n",
    "\n",
    "1. **加载文档**: 使用 `WebBaseLoader` 类从指定来源加载内容，并生成 `Document` 对象（依赖 `bs4` 库）。\n",
    "2. **文档分割**: 使用 `RecursiveCharacterTextSplitter` 类的 `split_documents()` 方法将长文档分割成较小的块。\n",
    "3. **存储嵌入**: 使用 `Chroma` 类的 `from_documents()` 方法将分割后的文档内容嵌入向量空间，并存储在向量数据库中（使用 `OpenAIEmbeddings`），并可以通过检查存储的向量数量来确认存储成功。。\n",
    "4. **检索文档**: 使用 `VectorStoreRetriever` 类的 `as_retriever()` 和 `invoke()` 方法基于查询从向量数据库中检索最相关的文档片段。\n",
    "5. **生成回答**: 使用 `ChatOpenAI` 类的 `invoke()` 方法，将检索到的文档片段与用户问题结合，生成回答（通过 `RunnablePassthrough` 和 `StrOutputParser`）。\n",
    "\n",
    "我们使用的文档是Lilian Weng撰写的《LLM Powered Autonomous Agents》博客文章（https://lilianweng.github.io/posts/2023-06-23-agent/ ），最终构建好的 RAG 应用支持我们询问关于该文章内容的相关问题。"
   ]
  },
  {
   "cell_type": "code",
   "execution_count": 1,
   "id": "fd5318a1-2bb9-45bb-8206-82fcf024c4b3",
   "metadata": {},
   "outputs": [
    {
     "name": "stderr",
     "output_type": "stream",
     "text": [
      "USER_AGENT environment variable not set, consider setting it to identify your requests.\n"
     ]
    }
   ],
   "source": [
    "# 导入必要的库\n",
    "import bs4\n",
    "from langchain_community.document_loaders import WebBaseLoader\n",
    "from langchain_text_splitters import RecursiveCharacterTextSplitter\n",
    "from langchain_chroma import Chroma\n",
    "from langchain_openai import OpenAIEmbeddings\n",
    "from langchain_core.output_parsers import StrOutputParser\n",
    "from langchain_core.runnables import RunnablePassthrough\n",
    "from langchain import hub\n",
    "from langchain_core.prompts import ChatPromptTemplate\n",
    "from langchain_openai import ChatOpenAI"
   ]
  },
  {
   "cell_type": "markdown",
   "id": "aebd3284-1cd1-4f53-b105-7f4f5d70faf3",
   "metadata": {},
   "source": [
    "### Step 1: 加载文档\n",
    "\n",
    "- **描述**: 使用 `DocumentLoader` 从指定来源（如网页）加载内容，并将其转换为 `Document` 对象。\n",
    "- **重要代码抽象**:\n",
    "  - 类: `WebBaseLoader`\n",
    "  - 方法: `load()`\n",
    "  - 库: `bs4` (BeautifulSoup)\n",
    "- **代码解释**:\n",
    "  - **文档加载**: 使用 `WebBaseLoader` 从网页加载内容，并通过 `BeautifulSoup` 解析 HTML，提取重要的部分。\n",
    "  - **检查加载数量**: 打印加载的文档数量，确保所有文档正确加载。\n",
    "  - **验证文档内容**: 输出第一个文档的部分内容，确认加载的数据符合预期。"
   ]
  },
  {
   "cell_type": "code",
   "execution_count": 5,
   "id": "e6ccef98-31df-4a7d-a5d1-94785651e06d",
   "metadata": {},
   "outputs": [],
   "source": [
    "# 使用 WebBaseLoader 从网页加载内容，并仅保留标题、标题头和文章内容\n",
    "bs4_strainer = bs4.SoupStrainer(class_=(\"subject\", \"related_info\"))\n",
    "loader = WebBaseLoader(\n",
    "    web_paths=(\"https://m.douban.com/book/subject/24531956/\",),\n",
    "    bs_kwargs={\"parse_only\": bs4_strainer},\n",
    ")\n",
    "docs = loader.load()"
   ]
  },
  {
   "cell_type": "code",
   "execution_count": 6,
   "id": "0e5c2d11-eff2-43d1-8800-9d9d3a301f39",
   "metadata": {},
   "outputs": [
    {
     "name": "stdout",
     "output_type": "stream",
     "text": [
      "[Document(metadata={'source': 'https://m.douban.com/book/subject/24531956/'}, page_content='\\n\\n内容简介\\n      \\xa0·\\xa0·\\xa0·\\xa0·\\xa0·\\xa0·\\n\\n  \\n\\n\\n\\n\\n《哈利·波特(共7册)(精)》编著者J.K.罗琳。     《哈利·波特(共7册)(精)》内容提要：2000年的一个深夜，在美国书店的烛光中，穿着黑斗篷，戴着小眼镜的店员开始销售“哈利o波特4”英文版，从此哈利·波特系列图书席卷全球，也是在这一年，简体中文版“哈利o波特”系列图书通过人民文学出版社引进版权登陆中国，作者J.K.罗琳用一种简单的魔法游戏将魔幻的故事传递给了中国乃至全球的青少年读者，与此同时商业电影的改编更是将这部魔幻题材的小说推向了巅峰。     截止到2013年，哈利·波特系列图书累计销量达到200多万套。     此次，人民文学出版社隆重推出《哈利o波特（精装本）》（全七册），此套精装珍藏版《哈利·波特》听取广大资深哈迷的心声，恢复选用陪伴广大哈迷十年之久深入人心的原有封面，并在此基础上提高工艺、完善装帧，配有独具匠心的精美函套，使...(展开全部)\\n\\n\\n\\n\\n\\n《哈利·波特(共7册)(精)》编著者J.K.罗琳。     《哈利·波特(共7册)(精)》内容提要：2000年的一个深夜，在美国书店的烛光中，穿着黑斗篷，戴着小眼镜的店员开始销售“哈利o波特4”英文版，从此哈利·波特系列图书席卷全球，也是在这一年，简体中文版“哈利o波特”系列图书通过人民文学出版社引进版权登陆中国，作者J.K.罗琳用一种简单的魔法游戏将魔幻的故事传递给了中国乃至全球的青少年读者，与此同时商业电影的改编更是将这部魔幻题材的小说推向了巅峰。     截止到2013年，哈利·波特系列图书累计销量达到200多万套。     此次，人民文学出版社隆重推出《哈利o波特（精装本）》（全七册），此套精装珍藏版《哈利·波特》听取广大资深哈迷的心声，恢复选用陪伴广大哈迷十年之久深入人心的原有封面，并在此基础上提高工艺、完善装帧，配有独具匠心的精美函套，使哈利波特系列7本浑然一体，必将成为每一个喜欢哈利·波特读者爱不释手的珍藏！     《哈利·波特与魔法石》     一岁的哈利·波特失去父母后，神秘地出现在姨父姨妈家的门前。哈利在姨父家饱受欺凌，度过十年极其痛苦的日子。姨父和姨妈好似凶神恶煞，他们那混世魔王儿子达力--一个肥胖、娇惯、欺负人的大块头，更是经济对哈利拳脚相加。哈利的“房间”是位于楼梯口的一个又暗又小的碗橱。十年来，从来没有人为他过过生日。     但是在他十一岁生日那天，一切都发生了变化，信使猫头鹰带来了一封神秘的信：邀请哈利去一个他--以及所有读到哈利故事的人--会觉得望远难忘的、不可思议的地方--霍格沃茨魔法学校。     在魔法学校，哈利不仅找着了朋友，学会了空中飞行，骑着一把型号为光轮2000的飞天扫帚打魁地奇球，还得到了一件隐形衣。他发现那里的一切--从上课到吃饭到睡觉都充满了魔力，但是一块魔石出现，它与哈利的命运息息相关……     《哈利·波特与密室》     哈利·波特在霍格沃茨魔法学校学习一年之后，暑假开始了。他在姨父姨妈家熬过痛苦的假期。正当他准备打点行装去学校时，小精灵多比前来发出警告：如果哈利返回霍格沃茨，灾难将会临头。     但哈利义无返顾地回到了霍格沃茨，新来的吉罗德·洛哈特教授装腔作势，让他作呕；游荡在女生舆洗室里的幽灵“哭泣的桃金娘”搅得他不得安宁；低年级的小女生金妮对他投来关切目光常令他尴尬不已；小男生科林·克里维“追星”式的跟踪又经常使他落荒而逃。     但是，这一切仅仅是灾难的序曲。正如多比所预言的，哈利遭受了重重磨难，经历了种种危险，难解之谜又使他煞费苦心：霍格沃茨的学生接二连三地变成了石头。这一切是品德败坏的学生德拉科·马尔福精心策划的杰作？还是忠厚善良的海格无心铸成的大错？或者另有人将在霍格沃茨制造更大的阴谋？这一切又是否与传说中的密室有关？哈利决心揭开谜底……     《哈利·波特与阿兹卡班的囚徒》     哈利·波特在霍格沃茨魔法学校已经度过了不平凡的两年，而且早已听说魔法世界中有一座守备森严的阿兹卡班监狱，里面关押着一个臭名昭著的囚徒，名字叫小天狼星布莱克。传言布莱克是“黑魔法”高手伏地魔--杀害哈利父母的凶手--的忠实信徒，曾经用一句魔咒接连结束了十三条性命。不幸的是，布莱克逃出了阿兹卡班，一心追寻哈利。布莱克在睡梦中仍然呓语不休：“他在霍格沃茨……他在霍格沃茨。”     哈利·波特虽然身在魔法学校的城堡内，既有朋友的赤诚帮助，也有老师的悉心呵护，但校园内危机四伏，哈利的生命时时受到威胁。一天，布莱克终于站到了哈利的面前……     《哈利·波特与火焰杯》     哈利·波特在霍格沃茨魔法学校经过三年的学习和磨炼，逐渐成长为一个出色的巫师。新学年开始前，哈利和好朋友罗恩，赫敏一起去观看精彩的魁地奇世界杯赛，无意间发现了消失十三年的黑魔标记。哈利的心头笼上了一团浓重的阴云，但三个少年依然拥有他们自己的伊甸园。然而，少男少女的心思是那样难以捉摸，三人之间的美好友情竟是那样一波三折，忽晴忽雨……哈利渴望与美丽的秋·张共同走进一个美丽的故事，但这个朦朦胧胧的憧憬却遭受了小小的失意。他要做一个普普通通的四年级魔法学生，可不幸的是，哈利注定永远都不可能平平常常--即使拿魔法界的标准来衡量。黑魔的阴影始终挥之不去，种种暗藏杀机的神秘事件将哈利一步步推向了伏地魔的魔爪。哈利渴望在百年不遇的三强争霸赛中战胜自我，完成三个惊险艰巨的魔法项目，谁知整个竞赛竟是一个天大的黑魔法阴谋……     《哈利·波特与凤凰社》     漫长的暑假，哈利·波特被困在女贞路4号，意外地遭到摄魂怪的袭击……逃过一劫的哈利被护送到伦敦一个秘密的地方，在那里他见了自己的教父小天狼星布莱克、前任黑魔法防御术课教师卢平、疯眼汉穆迪以及他的朋友赫敏和罗恩。他只是知道邓布利多与凤凰社成员正在加紧秘密活动，以对抗日益强大的伏地魔。但是，所有的人都不愿向他透露更多的情况……     哈利在茫然与愤怒中来到霍格沃茨，然而令他不解的是，邓布利多不愿见他，海格不知去向。更糟糕的是，哈利越来越频繁地在梦中看见一道长长的走廊，每当他快要走进长廊尽头的一扇门时，他都会头痛欲裂地从梦中惊醒，觉得自己身体里蠕动着一条大蛇……     魔法部派来了一位专横跋扈的高级调查官，对学校各项事务横加干涉，并最终赶走了邓布利多校长，打伤了麦格教授，整个学校笼罩在一片混乱和压抑之中……     大蛇的影子在哈利的脑海里越来越清晰，伏地魔走近了哈利……这时，邓布利多告诉他一个天大的秘密……     《哈利·波特与“混血王子”》     仲夏的一个夜晚，反常的浓雾笼罩在窗户玻璃上，哈利·波特在女贞路4号德思礼家自己的卧室里紧张地等待着邓布利多教授的来访。     哈利不太确定邓布利多是否真的会来德思礼家。邓布利多为什么现在要来看他呢？几个星期之后，他就要返校，邓布利多为什么不能等一等呢？哈利六年级的学习似乎就这样出人意料地提前开始了……     而更加出人意料的事情还在接踵而至：邓布利多终于让斯内普教授如愿以偿，任命其担任黑魔法防御术课教师……哈利从教室的储藏柜里翻到一本魔药课本，它的前任主人是“混血王子”，从此哈利在神秘“王子”的帮助下成为“魔药奇才”……邓布利多开始了给哈利的单独授课，但奇怪的是，邓布利多却经常离开学校外出……在邓布利多的课上，哈利经历了几段关于少年伏地魔的惊心动魄的记忆，揭示了伏地魔不同寻常的身世之谜……     哈利隐隐觉得这一学期期内普教授和马尔福的关系发生了微妙变化，其中似乎别有一番隐情，而马尔福更是行踪诡秘……哈利试图揭穿马尔福的阴谋，但始终没有成功，直到马尔福把食死徒引进学校，斯内普对邓布利多校长举起了魔杖……     《哈利·波特与死亡圣器》     还有四天，哈利就要迎来自己十七岁的生日，成为一名真正的魔法师。然而，他不得不提前离开女贞路4号，永远离开这个他曾经生活过十六年的地方。     凤凰社的成员精心谋划了秘密转移哈利的计划，以防哈利遭到伏地魔及其追随者食死徒的袭击。然而，可怕的意外还是发生了……     与此同时，卷土重来的伏地魔已经染指霍格沃茨魔法学校，占领了魔法部，控制了半个魔法界，形势急转直下……     哈利在罗恩、赫敏的陪伴下，不得不逃亡在外，隐形遁迹。为了完成校长邓布利多的遗命，一直在暗中寻机销毁伏地魔魂器的哈利，意外地获悉如果他们能够拥有传说中的三件死亡圣器，伏地魔将必死无疑。但是，伏地魔也早已开始了寻找死亡圣器的行动，并派出众多食死徒，布下天罗地网追捕哈利……     哈利与伏地魔在魔法学校的禁林中遭遇了，哈利倒在伏地魔抢先到手的一件致命的圣器之下……     然而，伏地魔未能如愿以偿，死亡圣器不可能战胜纯正的灵魂。哈利赢得了这场殊死较量的最终胜利……\\n\\n\\n\\n\\n\\n\\n哈利·波特的创作者\\n      \\xa0·\\xa0·\\xa0·\\xa0·\\xa0·\\xa0·\\n\\n  \\n\\n\\n\\n\\n\\n\\n\\n\\n\\n\\nJ·K·罗琳\\n作者\\n\\n\\n\\n\\n\\n\\n\\n马爱农\\n译者\\n\\n\\n\\n\\n\\n\\n\\n马爱新\\n译者\\n\\n\\n\\n\\n\\n\\n\\n作者简介\\n      \\xa0·\\xa0·\\xa0·\\xa0·\\xa0·\\xa0·\\n\\n  \\n\\n\\n\\n\\nJ. K. 罗琳（J. K. Rowling， 1965- ），英国女作家，自小喜欢写作，当过短时间的教师和秘书。二十四岁那年，她在前往伦敦的火车旅途中萌生了创作“哈利·波特”系列小说的念头。七年后，《哈利·波特与魔法石》问世，之后她陆续创作了《哈利·波特与密室》《哈 利·波特与阿兹卡班囚徒》《哈利·波特与火焰杯》《哈利-波特与凤凰社》《哈利·波特与“混血王子”》和《哈利·波特与死亡圣器》，完成了该系列的创作，在全球刮起一股股“哈利·波特”飓风，在世界范围内掀起规模宏大的“哈利·波特”阅读狂潮。另外，在此期间，她还因为慈善事业而先后完成了《神奇动物在哪里》和《神奇的魁地奇球》这两部与“哈利·波特”系列相关的图书。 2012年推出首部成人长篇小说《偶发空缺》。 J. K. 罗琳与她的丈夫及三个孩子生活在爱丁堡，一边尽享家庭生活的幸福，一边文学创作。\\n\\n\\n\\n目录\\n      \\xa0·\\xa0·\\xa0·\\xa0·\\xa0·\\xa0·\\n\\n  \\n\\n        《哈利·波特与魔法石》\\n        《哈利·波特与密室》\\n        《哈利·波特与阿兹卡班的囚徒》\\n        《哈利·波特与火焰杯》\\n        《哈利·波特与凤凰社》\\n        《哈利·波特与“混血王子”》\\n    · · · · · ·\\n    (更多)\\n\\n\\n        《哈利·波特与魔法石》\\n        《哈利·波特与密室》\\n        《哈利·波特与阿兹卡班的囚徒》\\n        《哈利·波特与火焰杯》\\n        《哈利·波特与凤凰社》\\n        《哈利·波特与“混血王子”》\\n        《哈利·波特与死亡圣器》\\n     · · · · · ·     (收起)\\n\\n\\n\\n\\n\\n\\n\\n\\n\\n\\n\\n\\n\\n\\n      原文摘录\\n      \\xa0\\xa0· · · · · ·\\xa0\\n      ( 全部 )\\n\\n\\n\\n\\n            沉湎于虚幻的梦想，而忘记现实的生活，这是毫无益处的，千万记住。 (查看原文)\\n\\n            \\n\\n\\n\\n\\nLyanna\\n6赞\\n2012-09-12 15:46:21\\n\\n\\n                —— 引自第166页\\n              \\n\\n\\n\\n\\n\\n            “然而，这面镜子既不能教给我们知识，也不能告诉我们实情。人们在它面前虚度时光，为他们所看见的东西而痴迷，甚至被逼得发疯，因为他们不知道镜子里的一切是否真实，是否可能实现。\\n明天镜子就要搬到一个新的地方了，哈利，我请你不要再去找它了。如果你哪天碰巧再看见它，你要有心理准备。沉于虚幻的梦想，而忘记现实的生活，这是毫无益处的，千万记住。” (查看原文)\\n\\n            \\n\\n\\n\\n\\n晴子\\n2 回复\\n3赞\\n2021-07-22 12:10:55\\n\\n\\n                —— 引自章节：《哈利·波特与魔法石》\\n              \\n\\n\\n\\n\\n > 全部原文摘录 \\n\\n\\n\\n\\n喜欢读\"哈利·波特\"的人也喜欢的电子书\\n      \\xa0·\\xa0·\\xa0·\\xa0·\\xa0·\\xa0·\\n\\n  \\n\\n        支持 Web、iPhone、iPad、Android 阅读器\\n    \\n\\n\\n\\n\\n\\n\\n\\n\\n\\n\\n\\n美丽新世界\\n\\n\\n                \\n    9.99元\\n\\n            \\n\\n\\n\\n\\n\\n\\n\\n\\n\\n\\n\\n\\n三国演义（套装全2册）\\n\\n\\n                \\n    24.00元\\n\\n            \\n\\n\\n\\n\\n\\n\\n\\n\\n\\n\\n\\n\\n魔戒 第三部：王者归来\\n\\n\\n                \\n    35.00元\\n\\n            \\n\\n\\n\\n\\n\\n\\n\\n\\n\\n\\n\\n\\n红楼梦（套装全2册）\\n\\n\\n                \\n    22.99元\\n\\n            \\n\\n\\n\\n\\n\\n\\n\\n\\n\\n\\n\\n\\n你一定爱读的极简欧洲史\\n\\n\\n                \\n    6.00元\\n\\n            \\n\\n\\n\\n\\n\\n\\n喜欢读\"哈利·波特\"的人也喜欢\\n      \\xa0·\\xa0·\\xa0·\\xa0·\\xa0·\\xa0·\\n\\n  \\n\\n\\n\\n\\n\\n\\n\\n            小王子\\n          \\n9.1\\n\\n\\n\\n\\n\\n\\n\\n\\n            福尔摩斯探案全集（上中下）\\n          \\n9.3\\n\\n\\n\\n\\n\\n\\n\\n\\n            飘\\n          \\n9.3\\n\\n\\n\\n\\n\\n\\n\\n\\n            肖申克的救赎\\n          \\n9.1\\n\\n\\n\\n\\n\\n\\n\\n\\n            傲慢与偏见\\n          \\n8.9\\n\\n\\n\\n\\n\\n\\n\\n\\n\\n            明朝那些事儿（1-9）\\n          \\n9.2\\n\\n\\n\\n\\n\\n\\n\\n\\n            百年孤独\\n          \\n9.3\\n\\n\\n\\n\\n\\n\\n\\n\\n            夏洛的网\\n          \\n8.6\\n\\n\\n\\n\\n\\n\\n\\n\\n            悲惨世界（上中下）\\n          \\n9.1\\n\\n\\n\\n\\n\\n\\n\\n\\n            基督山伯爵\\n          \\n9.1\\n\\n\\n\\n\\n\\n\\n\\n\\n\\n 我来说两句 \\n\\n\\n短评\\n      \\xa0·\\xa0·\\xa0·\\xa0·\\xa0·\\xa0·\\n      \\xa0(\\n          全部 18580 条\\n        ) \\n\\n\\n\\n\\n热门\\n/\\n最新\\n/\\n好友\\n\\n\\n\\n\\n\\n\\n\\n\\n\\n330\\n有用\\n\\n\\n凉白\\n\\n2020-02-20 12:34:23\\n\\n\\n\\n\\n想说的都在这儿了。\\n\\n作者：凉白（来自豆瓣）\\n来源：https://www.douban.com/doubanapp/dispatch/review/8504335\\n\\n《哈利.波特-(珍藏版)(全七册)》的豆瓣书评:【“死亡不过是另一场伟大的冒险”】\\n\\n\\n\\n\\n\\n\\n\\n\\n545\\n有用\\n\\n\\ncloversunai\\n\\n2020-02-20 18:15:12\\n\\n\\n\\n\\n伴随了我整个童年成长的经典小说。现下唯一美中不足的应该就是马爱农和马爱新在圣器那一本翻译的时候不停的引用了本山大叔的小品名句“你太有才了”！\\n\\n\\n\\n\\n\\n\\n\\n\\n63\\n有用\\n\\n\\n烟\\n\\n2021-06-06 21:57:27\\n\\n\\n\\n\\n第一次读时还是可以期待收到霍格沃茨来信的年纪。\\n\\n\\n\\n\\n\\n\\n\\n\\n96\\n有用\\n\\n\\n欺负我瓶仔是吧\\n\\n2020-03-24 20:43:17\\n\\n\\n\\n\\n人生最遗憾大概是我的猫头鹰没有来……\\n\\n\\n\\n\\n\\n\\n\\n\\n160\\n有用\\n\\n\\nMoskitory\\n\\n2020-07-09 16:14:35\\n\\n\\n\\n\\n长大后重读，仍然惊叹于罗琳天马行空的想象，令人叹服的叙事，别具匠心的构思，和其中蕴含的鼓舞人心的力量。它表现勇敢，表现爱，表现忠诚，表现智慧，也表现邪恶，表现权力和疯狂。它讨论政治，讨论平等，讨论自由，也讨论死亡。但最终，它希望我们无论身处何种困境，无论周遭如何黑暗，都要相信爱和勇气，要善良宽和，正直忠诚。我爱哈利波特！\\n\\n\\n\\n\\n\\n\\n\\n\\n\\n\\n\\n\\n0\\n有用\\n\\n\\n约里克很爱你\\n\\n2024-11-14 22:31:09\\n陕西\\n\\n\\n\\n童年经典，但看过一遍就不想看第二遍\\n\\n\\n\\n\\n\\n\\n\\n\\n0\\n有用\\n\\n\\n嘿嘿嘿\\n\\n2024-11-14 22:11:49\\n吉林\\n\\n\\n\\n900万字断断续续，囫囵吞枣的看完了，虽然前期记名字很累但是进入剧情后每一部的反转都很有意思，魔法世界很精彩，生活在那个世界会很有意思吧。\\n\\n\\n\\n\\n\\n\\n\\n\\n0\\n有用\\n\\n\\n闲来无事\\n\\n2024-11-14 20:13:04\\n重庆\\n\\n\\n\\n蛮好的\\n\\n\\n\\n\\n\\n\\n\\n\\n0\\n有用\\n\\n\\n豆友271240140\\n\\n2024-11-14 18:13:37\\n广东\\n\\n\\n\\n好看，魔法世界是全世界小孩都喜欢的童话\\n\\n\\n\\n\\n\\n\\n\\n\\n0\\n有用\\n\\n\\n弗莱德\\n\\n2024-11-14 16:26:21\\n浙江\\n\\n\\n\\n永远记得一个阳光灿烂的下午，自己躲在房间里把这本从同桌借来的书读了一遍又一遍之后的震撼，原来还有一个这么有趣的世界，回忆永远是最好的。\\n\\n\\n\\n\\n\\n\\n\\n> 更多短评 18580 条\\n\\n\\n\\n\\n\\n\\n\\n我要写书评\\n\\n\\n                    哈利·波特的书评 · · · · · ·\\n\\n                    ( 全部 235 条 )\\n\\n\\n\\n热门\\n最新\\n好友\\n只看本版本的评论\\n\\n\\n\\n\\n\\n\\n\\n\\n\\n凉白\\n\\n2017-04-27 22:07:02\\n\\n人民文学出版社2008版\\n\\n\\n\\n“死亡不过是另一场伟大的冒险”\\n\\n\\n这篇书评可能有关键情节透露\\n\\n                        其实这个系列有很多版本，不同版本评分也略有差别。我是从中挑选了一套评分最高的作为参考，因为我认为这部陪伴我长大的书担得起所有赞誉。 在学习、看书、看恐怖片、写书评间犹豫了一会儿，还是决定把书评写了吧。这部跨越了初中、高中、大学，跨越了我到目前人生近四分之三的...\\n\\n                        \\xa0(展开)\\n                    \\n\\n\\n\\n\\n\\n\\n\\n\\n                                237\\n                        \\n\\n\\n\\n\\n                                2\\n                        \\n\\n33回应\\n收起\\n\\n\\n\\n\\n\\n\\n\\n\\n\\n\\nLL\\n\\n2018-12-23 16:18:00\\n\\n人民文学出版社2008版\\n\\n\\n\\n哈利波特——别让任何东西熄灭内心美好的信念\\n\\n\\n这篇书评可能有关键情节透露\\n\\n                        我已经不记得这是第几次读这套书了，但我知道这一定不会是最后一次。我一直向所有的朋友推荐这套书，并且确信这会是一部流芳百世的经典之作。虽然每个情节都已经非常熟悉，但在整个阅读过程中，我仍然感受到极大的愉悦，不时被文字深深打动，并且又不断发现以前没有注意到的东...\\n\\n                        \\xa0(展开)\\n                    \\n\\n\\n\\n\\n\\n\\n\\n\\n                                108\\n                        \\n\\n\\n\\n\\n\\n\\n5回应\\n收起\\n\\n\\n\\n\\n\\n\\n\\n\\n\\n\\n妙牵人\\n\\n2019-10-06 03:13:19\\n\\nPottermore2016版\\n\\n\\n\\n《哈利波特》中的女性形象们\\n\\n\\n\\n                        22岁三刷。标记这次看几个觉得印象深刻的点： 1.金妮。小时候一直觉得金妮这个人物形象没什么记忆点，不配在最后成为哈利的妻子（和闪闪发光的赫敏和卢娜相比）。后来看发现罗琳借这个角色写了女性成长。金妮在第五部之后变得极其迷人而灵动，第六部之后更展现出了少有的勇敢和...\\n\\n                        \\xa0(展开)\\n                    \\n\\n\\n\\n\\n\\n\\n\\n\\n                                63\\n                        \\n\\n\\n\\n\\n                                3\\n                        \\n\\n3回应\\n收起\\n\\n\\n\\n\\n\\n\\n\\n\\n\\n\\n春生君\\n\\n2021-02-07 21:32:49\\n\\n人民文学出版社2011版\\n\\n\\n\\n不要温和地走进那个良夜\\n\\n\\n这篇书评可能有关键情节透露\\n\\n                        前阵子，确切地说是昨天，我看完了“哈利波特”系列小说。哈利波特系列我真正买票进电影院看的，是第八部，《哈利波特与死亡圣器 下》。早期，以我小时候的经济条件和经济发展程度，只能看盗版中的盗版。以至于我对哈利波特系列一直无感，主要原因就是观影体验太差。故事看得稀...\\n\\n                        \\xa0(展开)\\n                    \\n\\n\\n\\n\\n\\n\\n\\n\\n                                30\\n                        \\n\\n\\n\\n\\n\\n\\n1回应\\n收起\\n\\n\\n\\n\\n\\n\\n\\n\\n\\n\\n文若\\n\\n2020-03-03 10:24:11\\n\\n人民文学出版社2011版\\n\\n\\n\\n重读\\n\\n\\n\\n                        我记得小学三四年级的时候，上午第四堂语文课把书放在在课桌底下一行一行、小心翼翼的读着《密室》。那时我还很年轻，天真无邪、无忧无虑，思绪随着哈利坐上会飞的福特车一起离开犹如德思礼家沉闷无趣的教室，飞向未知的远方，黎明的天空。那段午前的记忆像放进了冥想盆一样，...\\n\\n                        \\xa0(展开)\\n                    \\n\\n\\n\\n\\n\\n\\n\\n\\n                                28\\n                        \\n\\n\\n\\n\\n\\n\\n6回应\\n收起\\n\\n\\n\\n\\n\\n\\n\\n\\n\\n\\n三萬\\n\\n2011-02-04 00:52:19\\n\\n人民文学出版社2008版\\n\\n\\n\\n书和魔杖一样，他挑选主人\\n\\n\\n\\n                        史诗般的故事终于来到了大结局。 《哈利波特7》书的扉页，是古希腊悲剧作家埃斯库罗斯《奠酒人》。《哈利波特7》电影的预告海报，是烈火熊熊中的霍格沃茨。 是的，这是这个时代的史诗。当然只有一部分人能够沉迷其中。与之无关的人就和麻瓜一样，既不愿意相信，也不愿意投入。 ...\\n\\n                        \\xa0(展开)\\n                    \\n\\n\\n\\n\\n\\n\\n\\n\\n                                19\\n                        \\n\\n\\n\\n\\n                                1\\n                        \\n\\n2回应\\n收起\\n\\n\\n\\n\\n\\n\\n\\n\\n\\n\\n风后\\n\\n2022-01-14 17:06:10\\n\\n人民文学出版社2008版\\n\\n\\n\\n对不凡者的教导：《HP》的悲剧结构和死亡主题\\n\\n\\n这篇书评可能有关键情节透露\\n\\n                        罗琳的这部小说，在结构上有着古希腊悲剧的传统模式：预言（特里劳尼教授的神秘预言）–对抗预言采取行动（伏地魔杀死HP父母）–仍被预言言中（伏地魔死于HP之手，两个只能活一个）。Obviously，这与“俄狄浦斯”的故事存在显而易见的结构上的对称。所以，整部《HP》的结局几乎...\\n\\n                        \\xa0(展开)\\n                    \\n\\n\\n\\n\\n\\n\\n\\n\\n                                18\\n                        \\n\\n\\n\\n\\n                                1\\n                        \\n\\n0回应\\n收起\\n\\n\\n\\n\\n\\n\\n\\n\\n\\n\\n雨斋主人\\n\\n2009-08-06 20:41:28\\n\\n人民文学出版社2008版\\n\\n\\n\\n这个价格也就这样了\\n\\n\\n\\n                        最终还是在卓越订了,253.7大元,免送货费.  质量,装订还说得过去了,当然没法跟原版书比的,价格在这放着呢.  说真的,如果箱子是木头的,书是羊皮纸线装的话就完美了.当然,这个价格也是不可能的.  下面是我自己拍的几张这套书的照片,愿意的话,可以看看 http://www.douban.com/photo...\\n\\n                        \\xa0(展开)\\n                    \\n\\n\\n\\n\\n\\n\\n\\n\\n                                19\\n                        \\n\\n\\n\\n\\n                                2\\n                        \\n\\n13回应\\n收起\\n\\n\\n\\n\\n\\n\\n\\n\\n\\n\\n茶色蟆口鸱\\n\\n2020-07-30 23:06:20\\n\\n\\n“我在结束时打开”\\n\\n\\n\\n                        第一次看哈利波特是初中升高中的暑假，我记得熬夜看到凌晨，一个多星期就把一整套看完了。现在是大一暑假，花了两个月二刷，纪念一下。 都这么一大把年纪了，还是会为双子“霍格沃兹马桶圈”和“当斯内普遇到洗发水”而笑，还是会为多比的死还有邓布利多的那句“我不怕，我和你...\\n\\n                        \\xa0(展开)\\n                    \\n\\n\\n\\n\\n\\n\\n\\n\\n                                14\\n                        \\n\\n\\n\\n\\n\\n\\n2回应\\n收起\\n\\n\\n\\n\\n\\n\\n\\n\\n\\n\\nSayaNero\\n2021-01-20 16:41:24\\n\\n\\n摘自 《哈利波特》原文 电影无法表达图书中最令人感动的一幕 五星\\n\\n\\n\\n                        “我们是一直在保护他，因为必须教他、培养他，让他能够拥有足够的勇气。”邓布利多仍旧紧闭双眼。“同时，伏地魔和他之间的联系像寄生虫一样在滋长。有时我觉得他自己也怀疑过，如果我料得不错，他安排好一切后肯定会去赴死的，那就意味着伏地魔的末日到了。” 邓布利多睁开了...\\n\\n                        \\xa0(展开)\\n                    \\n\\n\\n\\n\\n\\n\\n\\n\\n                                9\\n                        \\n\\n\\n\\n\\n                                1\\n                        \\n\\n1回应\\n收起\\n\\n\\n\\n\\n\\n\\n\\n\\n\\n\\n\\n\\n\\n\\n\\n\\n\\n                    >\\n                        \\n                            更多书评\\n                                235篇\\n                        \\n\\n\\n\\n\\n\\n\\n\\n\\n论坛\\n      \\xa0·\\xa0·\\xa0·\\xa0·\\xa0·\\xa0·\\n\\n  \\n\\n\\n大家买的书也是能透过背面的字吗？看的眼晕，要弃...\\n来自YourMajesty\\n5 回应\\n2024-11-13 22:27:38\\n\\n\\n我最瞧不起的也是运气最好的人是斯内普，他对于正...\\n来自退瓣因浏览量低\\n8 回应\\n2024-04-18 22:24:18\\n\\n\\n经典重温\\n来自豆友MfZ8fCXiBw\\n\\n2024-03-12 17:39:46\\n\\n\\n伴随了我整个童年成长的经典小说。现下唯一美中不...\\n来自坐看云起时\\n6 回应\\n2023-09-11 10:54:15\\n\\n\\n好看的一页\\n来自H～H～85·CC\\n\\n2023-06-27 19:35:26\\n\\n\\n>\\n                浏览更多话题\\n\\n\\n')]\n",
      "11725\n"
     ]
    }
   ],
   "source": [
    "# 检查加载的文档内容长度\n",
    "print(docs)  # 打印第一个文档内容的长度\n",
    "print(len(docs[0].page_content))  # 打印第一个文档内容的长度"
   ]
  },
  {
   "cell_type": "code",
   "execution_count": 10,
   "id": "d94fd046-6a2a-4761-a83b-a9f82ed53b63",
   "metadata": {},
   "outputs": [
    {
     "name": "stdout",
     "output_type": "stream",
     "text": [
      "\n",
      "\n",
      "内容简介\n",
      "       · · · · · ·\n",
      "\n",
      "  \n",
      "\n",
      "\n",
      "\n",
      "\n",
      "《哈利·波特(共7册)(精)》编著者J.K.罗琳。     《哈利·波特(共7册)(精)》内容提要：2000年的一个深夜，在美国书店的烛光中，穿着黑斗篷，戴着小眼镜的店员开始销售“哈利o波特4”英文版，从此哈利·波特系列图书席卷全球，也是在这一年，简体中文版“哈利o波特”系列图书通过人民文学出版社引进版权登陆中国，作者J.K.罗琳用一种简单的魔法游戏将魔幻的故事传递给了中国乃至全球的青少年读者，与此同时商业电影的改编更是将这部魔幻题材的小说推向了巅峰。     截止到2013年，哈利·波特系列图书累计销量达到200多万套。  \n"
     ]
    }
   ],
   "source": [
    "# 查看第一个文档（前100字符）\n",
    "print(docs[0].page_content[:300])"
   ]
  },
  {
   "cell_type": "markdown",
   "id": "1b6705c5-54ab-4cbd-9718-01563257e54d",
   "metadata": {},
   "source": [
    "### Step 2: 文档分割\n",
    "\n",
    "- **描述**: 使用文本分割器将加载的长文档分割成较小的块，以便嵌入和检索。\n",
    "- **重要代码抽象**:\n",
    "  - 类: `RecursiveCharacterTextSplitter`\n",
    "  - 方法: `split_documents()`\n",
    "- **代码解释**:\n",
    "  - **文档分割**: 使用 `RecursiveCharacterTextSplitter` 按字符大小分割文档块，设置块大小和重叠字符数，确保文档块适合模型处理。\n",
    "  - **检查块数量**: 打印分割后的文档块数量，确保分割操作正确执行。\n",
    "  - **验证块大小**: 输出第一个块的字符数，确认分割块的大小是否符合预期。"
   ]
  },
  {
   "cell_type": "code",
   "execution_count": 11,
   "id": "0958c3b5-4110-44b2-9e27-4a82015c0a5e",
   "metadata": {},
   "outputs": [],
   "source": [
    "# 使用 RecursiveCharacterTextSplitter 将文档分割成块，每块1000字符，重叠200字符\n",
    "text_splitter = RecursiveCharacterTextSplitter(\n",
    "    chunk_size=1000, chunk_overlap=200, add_start_index=True\n",
    ")\n",
    "all_splits = text_splitter.split_documents(docs)"
   ]
  },
  {
   "cell_type": "code",
   "execution_count": 12,
   "id": "04d73830-8e73-4293-80b0-7e631f7344d1",
   "metadata": {},
   "outputs": [
    {
     "name": "stdout",
     "output_type": "stream",
     "text": [
      "16\n"
     ]
    }
   ],
   "source": [
    "# 检查分割后的块数量和内容\n",
    "print(len(all_splits))  # 打印分割后的文档块数量"
   ]
  },
  {
   "cell_type": "code",
   "execution_count": 13,
   "id": "5263f892-4a80-42b9-b79e-ac3e303a60ca",
   "metadata": {},
   "outputs": [
    {
     "name": "stdout",
     "output_type": "stream",
     "text": [
      "421\n"
     ]
    }
   ],
   "source": [
    "print(len(all_splits[0].page_content))  # 打印第一个块的字符数"
   ]
  },
  {
   "cell_type": "code",
   "execution_count": 14,
   "id": "46183c0c-91ec-4609-b7c3-e85c08d8d975",
   "metadata": {},
   "outputs": [
    {
     "name": "stdout",
     "output_type": "stream",
     "text": [
      "内容简介\n",
      "       · · · · · ·\n",
      "\n",
      "  \n",
      "\n",
      "\n",
      "\n",
      "\n",
      "《哈利·波特(共7册)(精)》编著者J.K.罗琳。     《哈利·波特(共7册)(精)》内容提要：2000年的一个深夜，在美国书店的烛光中，穿着黑斗篷，戴着小眼镜的店员开始销售“哈利o波特4”英文版，从此哈利·波特系列图书席卷全球，也是在这一年，简体中文版“哈利o波特”系列图书通过人民文学出版社引进版权登陆中国，作者J.K.罗琳用一种简单的魔法游戏将魔幻的故事传递给了中国乃至全球的青少年读者，与此同时商业电影的改编更是将这部魔幻题材的小说推向了巅峰。     截止到2013年，哈利·波特系列图书累计销量达到200多万套。     此次，人民文学出版社隆重推出《哈利o波特（精装本）》（全七册），此套精装珍藏版《哈利·波特》听取广大资深哈迷的心声，恢复选用陪伴广大哈迷十年之久深入人心的原有封面，并在此基础上提高工艺、完善装帧，配有独具匠心的精美函套，使...(展开全部)\n"
     ]
    }
   ],
   "source": [
    "print(all_splits[0].page_content)  # 打印第一个块的内容"
   ]
  },
  {
   "cell_type": "code",
   "execution_count": 15,
   "id": "034ce612-96d0-4b61-8d53-884b48a85a11",
   "metadata": {},
   "outputs": [
    {
     "name": "stdout",
     "output_type": "stream",
     "text": [
      "{'source': 'https://m.douban.com/book/subject/24531956/', 'start_index': 2}\n"
     ]
    }
   ],
   "source": [
    "print(all_splits[0].metadata)  # 打印第一个块的元数据"
   ]
  },
  {
   "cell_type": "code",
   "execution_count": null,
   "id": "7b96fb11-41cb-4d79-b7ec-cc294187baf8",
   "metadata": {},
   "outputs": [],
   "source": []
  },
  {
   "cell_type": "markdown",
   "id": "4d04622f-7e3c-413c-89cd-5eef87949966",
   "metadata": {},
   "source": [
    "### Step 3: 存储嵌入\n",
    "\n",
    "- **描述**: 将分割后的文档内容嵌入到向量空间中，并存储到向量数据库，以便后续检索。\n",
    "- **重要代码抽象**:\n",
    "  - 类: `Chroma`\n",
    "  - 方法: `from_documents()`\n",
    "  - 类: `OpenAIEmbeddings`\n",
    "- **代码解释**:\n",
    "  - **存储嵌入**: 使用 `Chroma.from_documents()` 方法将所有分割的文档片段进行嵌入(`OpenAIEmbeddings`嵌入模型)，将文档片段嵌入向量空间，并存储在向量数据库中。"
   ]
  },
  {
   "cell_type": "markdown",
   "id": "f39f1eca-7d0c-4bcc-b255-054cc002d7f4",
   "metadata": {},
   "source": [
    "#### Chroma 基础使用\n",
    "\n",
    "**下面是初始化 Chroma 数据库（仅实例化，未存储向量数据）的常见做法：**\n",
    "\n",
    "**使用构造函数初始化**: 在本地持久化存储 Chroma 数据库.\n",
    "\n",
    "```python\n",
    "from langchain_chroma import Chroma\n",
    "\n",
    "vector_store = Chroma(\n",
    "    collection_name=\"example_collection\",\n",
    "    embedding_function=embeddings,\n",
    "    persist_directory=\"./chroma_langchain_db\",  # Where to save data locally, remove if not neccesary\n",
    ")\n",
    "```\n",
    "\n",
    "**使用 Cleint 初始化**: 更方便地访问底层数据库/集合。\n",
    "\n",
    "```python\n",
    "import chromadb\n",
    "\n",
    "persistent_client = chromadb.PersistentClient()\n",
    "collection = persistent_client.get_or_create_collection(\"collection_name\")\n",
    "collection.add(ids=[\"1\", \"2\", \"3\"], documents=[\"a\", \"b\", \"c\"])\n",
    "\n",
    "vector_store_from_client = Chroma(\n",
    "    client=persistent_client,\n",
    "    collection_name=\"collection_name\",\n",
    "    embedding_function=embeddings,\n",
    ")\n",
    "```\n",
    "\n",
    "\n",
    "**我们直接使用 `Chroma.from_documents()` 方法 实例化+数据存储**:\n",
    "\n",
    "该方法返回 Chroma 实例，数据类型为`langchain_chroma.vectorstores.Chroma`，详细 API 文档： https://python.langchain.com/v0.2/api_reference/core/vectorstores/langchain_core.vectorstores.base.VectorStore.html"
   ]
  },
  {
   "cell_type": "code",
   "execution_count": 17,
   "id": "ef288a05-25a4-4f2f-827a-a5f318ff0d7f",
   "metadata": {},
   "outputs": [],
   "source": [
    "# 使用 Chroma 向量存储和 OpenAIEmbeddings 模型，将分割的文档块嵌入并存储\n",
    "vectorstore = Chroma.from_documents(\n",
    "    documents=all_splits,\n",
    "    embedding=OpenAIEmbeddings()\n",
    ")"
   ]
  },
  {
   "cell_type": "code",
   "execution_count": 18,
   "id": "39aa3545-b456-473a-b620-5fb0eab15dc2",
   "metadata": {},
   "outputs": [
    {
     "data": {
      "text/plain": [
       "langchain_chroma.vectorstores.Chroma"
      ]
     },
     "execution_count": 18,
     "metadata": {},
     "output_type": "execute_result"
    }
   ],
   "source": [
    "# 查看 vectorstore 数据类型\n",
    "type(vectorstore) "
   ]
  },
  {
   "cell_type": "code",
   "execution_count": null,
   "id": "47b52313-646a-4512-8125-68054c1c7e46",
   "metadata": {},
   "outputs": [],
   "source": []
  },
  {
   "cell_type": "markdown",
   "id": "a6c587ce-b40f-47ad-bd14-480c49a073e7",
   "metadata": {},
   "source": [
    "### Step 4: 检索文档\n",
    "\n",
    "- **描述**: 使用 `VectorStoreRetriever` 类的 `as_retriever()` 和 `invoke()` 方法，从向量数据库中检索与查询最相关的文档片段。\n",
    "- **重要代码抽象**:\n",
    "  - 类: `VectorStoreRetriever`\n",
    "  - 方法: `as_retriever()`, `invoke()`\n",
    "- **代码解释**:\n",
    "  - **文档检索**: 将向量存储转换为检索器，并基于查询执行相似性搜索，获取相关文档片段。\n",
    "  - **检查检索数量**: 打印检索到的文档片段数量，确保检索操作成功。\n",
    "  - **验证检索内容**: 输出第一个检索到的文档内容，确认检索结果与预期相符。\n",
    "\n",
    "在 LangChain 中，所有向量数据库都支持**vectorstore.as_retriever** 方法，实例化该数据库对应的检索器（Retriever），数据类型为`VectorStoreRetriever`，详细 API 文档：https://python.langchain.com/v0.2/api_reference/core/vectorstores/langchain_core.vectorstores.base.VectorStoreRetriever.html"
   ]
  },
  {
   "cell_type": "code",
   "execution_count": 19,
   "id": "0cdab30e-b07d-4273-b734-3aabff356bb5",
   "metadata": {},
   "outputs": [],
   "source": [
    "# 使用 VectorStoreRetriever 从向量存储中检索与查询最相关的文档\n",
    "retriever = vectorstore.as_retriever(search_type=\"similarity\", search_kwargs={\"k\": 6})"
   ]
  },
  {
   "cell_type": "code",
   "execution_count": 20,
   "id": "6feddb48-d07e-40be-a9fe-790c3bb75d79",
   "metadata": {},
   "outputs": [
    {
     "data": {
      "text/plain": [
       "langchain_core.vectorstores.base.VectorStoreRetriever"
      ]
     },
     "execution_count": 20,
     "metadata": {},
     "output_type": "execute_result"
    }
   ],
   "source": [
    "type(retriever)"
   ]
  },
  {
   "cell_type": "code",
   "execution_count": 23,
   "id": "9283b2e6-874f-4815-915b-e87da0429a5c",
   "metadata": {},
   "outputs": [],
   "source": [
    "retrieved_docs = retriever.invoke(\"what is the name of the book?\")"
   ]
  },
  {
   "cell_type": "code",
   "execution_count": 24,
   "id": "0d292f13-9581-4f28-b54d-ba0fe9fa0040",
   "metadata": {},
   "outputs": [
    {
     "name": "stdout",
     "output_type": "stream",
     "text": [
      "6\n"
     ]
    }
   ],
   "source": [
    "# 检查检索到的文档内容\n",
    "print(len(retrieved_docs))  # 打印检索到的文档数量"
   ]
  },
  {
   "cell_type": "code",
   "execution_count": 25,
   "id": "458d6a7d-21a9-49a4-b523-651e3bab51e4",
   "metadata": {},
   "outputs": [
    {
     "name": "stdout",
     "output_type": "stream",
     "text": [
      "内容简介\n",
      "       · · · · · ·\n",
      "\n",
      "  \n",
      "\n",
      "\n",
      "\n",
      "\n",
      "《哈利·波特(共7册)(精)》编著者J.K.罗琳。     《哈利·波特(共7册)(精)》内容提要：2000年的一个深夜，在美国书店的烛光中，穿着黑斗篷，戴着小眼镜的店员开始销售“哈利o波特4”英文版，从此哈利·波特系列图书席卷全球，也是在这一年，简体中文版“哈利o波特”系列图书通过人民文学出版社引进版权登陆中国，作者J.K.罗琳用一种简单的魔法游戏将魔幻的故事传递给了中国乃至全球的青少年读者，与此同时商业电影的改编更是将这部魔幻题材的小说推向了巅峰。     截止到2013年，哈利·波特系列图书累计销量达到200多万套。     此次，人民文学出版社隆重推出《哈利o波特（精装本）》（全七册），此套精装珍藏版《哈利·波特》听取广大资深哈迷的心声，恢复选用陪伴广大哈迷十年之久深入人心的原有封面，并在此基础上提高工艺、完善装帧，配有独具匠心的精美函套，使...(展开全部)\n"
     ]
    }
   ],
   "source": [
    "print(retrieved_docs[0].page_content)  # 打印第一个检索到的文档内容"
   ]
  },
  {
   "cell_type": "code",
   "execution_count": 98,
   "metadata": {},
   "outputs": [
    {
     "name": "stdout",
     "output_type": "stream",
     "text": [
      "6\n",
      "哈利·波特的创作者\n",
      "       · · · · · ·\n",
      "\n",
      "  \n",
      "\n",
      "\n",
      "\n",
      "\n",
      "\n",
      "\n",
      "\n",
      "\n",
      "\n",
      "\n",
      "J·K·罗琳\n",
      "作者\n",
      "\n",
      "\n",
      "\n",
      "\n",
      "\n",
      "\n",
      "\n",
      "马爱农\n",
      "译者\n",
      "\n",
      "\n",
      "\n",
      "\n",
      "\n",
      "\n",
      "\n",
      "马爱新\n",
      "译者\n",
      "\n",
      "\n",
      "\n",
      "\n",
      "\n",
      "\n",
      "\n",
      "作者简介\n",
      "       · · · · · ·\n",
      "\n",
      "  \n",
      "\n",
      "\n",
      "\n",
      "\n",
      "J. K. 罗琳（J. K. Rowling， 1965- ），英国女作家，自小喜欢写作，当过短时间的教师和秘书。二十四岁那年，她在前往伦敦的火车旅途中萌生了创作“哈利·波特”系列小说的念头。七年后，《哈利·波特与魔法石》问世，之后她陆续创作了《哈利·波特与密室》《哈 利·波特与阿兹卡班囚徒》《哈利·波特与火焰杯》《哈利-波特与凤凰社》《哈利·波特与“混血王子”》和《哈利·波特与死亡圣器》，完成了该系列的创作，在全球刮起一股股“哈利·波特”飓风，在世界范围内掀起规模宏大的“哈利·波特”阅读狂潮。另外，在此期间，她还因为慈善事业而先后完成了《神奇动物在哪里》和《神奇的魁地奇球》这两部与“哈利·波特”系列相关的图书。 2012年推出首部成人长篇小说《偶发空缺》。 J. K. 罗琳与她的丈夫及三个孩子生活在爱丁堡，一边尽享家庭生活的幸福，一边文学创作。\n",
      "\n",
      "\n",
      "\n",
      "目录\n",
      "       · · · · · ·\n",
      "\n",
      "  \n",
      "\n",
      "        《哈利·波特与魔法石》\n",
      "        《哈利·波特与密室》\n",
      "        《哈利·波特与阿兹卡班的囚徒》\n",
      "        《哈利·波特与火焰杯》\n",
      "        《哈利·波特与凤凰社》\n",
      "        《哈利·波特与“混血王子”》\n",
      "    · · · · · ·\n",
      "    (更多)\n",
      "\n",
      "\n",
      "        《哈利·波特与魔法石》\n",
      "        《哈利·波特与密室》\n",
      "        《哈利·波特与阿兹卡班的囚徒》\n",
      "        《哈利·波特与火焰杯》\n",
      "        《哈利·波特与凤凰社》\n",
      "        《哈利·波特与“混血王子”》\n",
      "        《哈利·波特与死亡圣器》\n",
      "     · · · · · ·     (收起)\n",
      "\n",
      "\n",
      "\n",
      "\n",
      "\n",
      "\n",
      "\n",
      "\n",
      "\n",
      "\n",
      "\n",
      "\n",
      "\n",
      "\n",
      "      原文摘录\n",
      "        · · · · · · \n",
      "      ( 全部 )\n",
      "\n",
      "\n",
      "\n",
      "\n",
      "            沉湎于虚幻的梦想，而忘记现实的生活，这是毫无益处的，千万记住。 (查看原文)\n"
     ]
    }
   ],
   "source": [
    "retrieved_docs = retriever.invoke(\"what is the author of the book?\")\n",
    "# 检查检索到的文档内容\n",
    "print(len(retrieved_docs))  # 打印检索到的文档数量\n",
    "print(retrieved_docs[0].page_content)  # 打印第一个检索到的文档内容"
   ]
  },
  {
   "cell_type": "code",
   "execution_count": 101,
   "id": "6cdc6302-1b59-4abc-813a-6b0d44cc7cf2",
   "metadata": {},
   "outputs": [
    {
     "name": "stdout",
     "output_type": "stream",
     "text": [
      "6\n",
      "内容简介\n",
      "       · · · · · ·\n",
      "\n",
      "  \n",
      "\n",
      "\n",
      "\n",
      "\n",
      "《哈利·波特(共7册)(精)》编著者J.K.罗琳。     《哈利·波特(共7册)(精)》内容提要：2000年的一个深夜，在美国书店的烛光中，穿着黑斗篷，戴着小眼镜的店员开始销售“哈利o波特4”英文版，从此哈利·波特系列图书席卷全球，也是在这一年，简体中文版“哈利o波特”系列图书通过人民文学出版社引进版权登陆中国，作者J.K.罗琳用一种简单的魔法游戏将魔幻的故事传递给了中国乃至全球的青少年读者，与此同时商业电影的改编更是将这部魔幻题材的小说推向了巅峰。     截止到2013年，哈利·波特系列图书累计销量达到200多万套。     此次，人民文学出版社隆重推出《哈利o波特（精装本）》（全七册），此套精装珍藏版《哈利·波特》听取广大资深哈迷的心声，恢复选用陪伴广大哈迷十年之久深入人心的原有封面，并在此基础上提高工艺、完善装帧，配有独具匠心的精美函套，使...(展开全部)\n"
     ]
    }
   ],
   "source": [
    "retrieved_docs = retriever.invoke(\"what is the publish year of this book?\")\n",
    "# 检查检索到的文档内容\n",
    "print(len(retrieved_docs))  # 打印检索到的文档数量\n",
    "print(retrieved_docs[0].page_content)  # 打印第一个检索到的文档内容"
   ]
  },
  {
   "cell_type": "markdown",
   "id": "a3309c1e-c650-44ae-baba-6f7528372931",
   "metadata": {},
   "source": [
    "### Step 5: 生成回答\n",
    "\n",
    "- **描述**: 将之前构建的组件（检索器、提示、LLM等）组合成一个完整的链条，实现用户问题的检索与生成回答。完整链条：输入用户问题，检索相关文档，构建提示，将其传递给模型（使用`ChatOpenAI` 类的 `invoke()` 方法），并解析输出生成最终回答。\n",
    "- **重要代码抽象**:\n",
    "  - 类: `ChatOpenAI`\n",
    "  - 方法: `invoke()`\n",
    "  - 类: `RunnablePassthrough`\n",
    "  - 类: `StrOutputParser`\n",
    "  - 模块：`hub`\n",
    "- **代码解释**:\n",
    "  - **模型初始化**: 使用 `ChatOpenAI` 类初始化一个 `GPT-4o-mini` 模型，准备处理生成任务。\n",
    "  - **文档格式化**: 定义 `format_docs` 函数，用于将检索到的文档内容格式化为字符串。\n",
    "  - **构建 RAG 链**: 使用 LCEL (LangChain Execution Layer) 的 `|` 操作符将各个组件连接成一个链条，包括文档检索、提示构建、模型调用以及输出解析。\n",
    "  - **生成回答**: 使用 `stream()` 方法逐步输出生成的回答，并实时展示，确保生成的结果符合预期。\n",
    "\n",
    "![retrieval](../images/retrieval.png)\n",
    "\n",
    "#### LangChain Hub\n",
    "\n",
    "`LangChain Hub` (https://smith.langchain.com/hub) 是一个提示词模板开源社区，为开发者提供了大量开箱即用的提示词模板。属于 `LangSmith` 产品的一部分。\n",
    "\n",
    "下面我们尝试使用 RAG 应用的提示词模板：https://smith.langchain.com/hub/rlm/rag-prompt\n",
    "\n",
    "\n",
    "```\n",
    "You are an assistant for question-answering tasks. Use the following pieces of retrieved context to answer the question. If you don't know the answer, just say that you don't know. Use three sentences maximum and keep the answer concise.\n",
    "Question: {question} \n",
    "Context: {context} \n",
    "Answer:\n",
    "```"
   ]
  },
  {
   "cell_type": "code",
   "execution_count": 26,
   "id": "b3dbe88b-7a8f-4607-8426-698a3adf3ef2",
   "metadata": {},
   "outputs": [],
   "source": [
    "# 定义 RAG 链，将用户问题与检索到的文档结合并生成答案\n",
    "llm = ChatOpenAI(model=\"gpt-4o-mini\")"
   ]
  },
  {
   "cell_type": "code",
   "execution_count": 27,
   "id": "488e8c40-a304-4538-a84e-cc8e4e7e101a",
   "metadata": {},
   "outputs": [
    {
     "name": "stderr",
     "output_type": "stream",
     "text": [
      "e:\\code\\github\\DjangoPeng\\openai-quickstart\\.venv\\lib\\site-packages\\langsmith\\client.py:241: LangSmithMissingAPIKeyWarning: API key must be provided when using hosted LangSmith API\n",
      "  warnings.warn(\n"
     ]
    }
   ],
   "source": [
    "# 使用 hub 模块拉取 rag 提示词模板\n",
    "prompt = hub.pull(\"rlm/rag-prompt\")"
   ]
  },
  {
   "cell_type": "code",
   "execution_count": 28,
   "id": "cf0de4c1-e389-430b-a472-521960e12b0b",
   "metadata": {},
   "outputs": [
    {
     "name": "stdout",
     "output_type": "stream",
     "text": [
      "[HumanMessagePromptTemplate(prompt=PromptTemplate(input_variables=['context', 'question'], input_types={}, partial_variables={}, template=\"You are an assistant for question-answering tasks. Use the following pieces of retrieved context to answer the question. If you don't know the answer, just say that you don't know. Use three sentences maximum and keep the answer concise.\\nQuestion: {question} \\nContext: {context} \\nAnswer:\"), additional_kwargs={})]\n"
     ]
    }
   ],
   "source": [
    "# 打印模板\n",
    "print(prompt.messages)"
   ]
  },
  {
   "cell_type": "code",
   "execution_count": 29,
   "id": "281d2ea1-0a61-45aa-810d-6b80a7d102a2",
   "metadata": {},
   "outputs": [],
   "source": [
    "# 为 context 和 question 填充样例数据，并生成 ChatModel 可用的 Messages\n",
    "example_messages = prompt.invoke(\n",
    "    {\"context\": \"filler context\", \"question\": \"filler question\"}\n",
    ").to_messages()"
   ]
  },
  {
   "cell_type": "code",
   "execution_count": 30,
   "id": "0e55e098-5f2d-4ef6-98e2-b1a4f27fa853",
   "metadata": {},
   "outputs": [
    {
     "name": "stdout",
     "output_type": "stream",
     "text": [
      "You are an assistant for question-answering tasks. Use the following pieces of retrieved context to answer the question. If you don't know the answer, just say that you don't know. Use three sentences maximum and keep the answer concise.\n",
      "Question: filler question \n",
      "Context: filler context \n",
      "Answer:\n"
     ]
    }
   ],
   "source": [
    "# 查看提示词\n",
    "print(example_messages[0].content)"
   ]
  },
  {
   "cell_type": "markdown",
   "id": "300cbbc6-aaaa-4f8c-8382-1cbda08d2fe9",
   "metadata": {},
   "source": [
    "#### ⭐️**LCEL 在 RAG 中的应用**⭐️\n",
    "\n",
    "##### **LCEL 概述**\n",
    "\n",
    "LCEL 是 LangChain 中的一个重要概念，它提供了一种统一的接口，允许不同的组件（如 `retriever`, `prompt`, `llm` 等）可以通过统一的 `Runnable` 接口连接起来。每个 `Runnable` 组件都实现了相同的方法，如 `.invoke()`、`.stream()` 或 `.batch()`，这使得它们可以通过 `|` 操作符轻松连接。\n",
    "\n",
    "##### **LCEL 中处理的组件**\n",
    "\n",
    "- **Retriever**: 负责根据用户问题检索相关文档。\n",
    "- **Prompt**: 根据检索到的文档构建提示，供模型生成回答。\n",
    "- **LLM**: 接收提示并生成最终的回答。\n",
    "- **StrOutputParser**: 解析 LLM 的输出，只提取字符串内容，供最终显示。\n",
    "\n",
    "##### **LCEL 运作机制**\n",
    "\n",
    "- **构建链条**: 通过 `|` 操作符，我们可以将多个 `Runnable` 组件连接成一个 `RunnableSequence`。LangChain 会自动将一些对象转换为 `Runnable`，如将 `format_docs` 转换为 `RunnableLambda`，将包含 `\"context\"` 和 `\"question\"` 键的字典转换为 `RunnableParallel`。\n",
    "\n",
    "- **数据流动**: 用户输入的问题会在 `RunnableSequence` 中依次经过各个 `Runnable` 组件。首先，问题会通过 `retriever` 检索相关文档，然后通过 `format_docs` 将这些文档转换为字符串。`RunnablePassthrough` 则直接传递原始问题。最后，这些数据被传递给 `prompt` 来生成完整的提示，供 LLM 使用。\n",
    "\n",
    "##### **LCEL 中的关键操作**\n",
    "\n",
    "- **格式化文档**: `retriever | format_docs` 将问题传递给 `retriever` 生成文档对象，然后通过 `format_docs` 将这些文档格式化为字符串。\n",
    "- **传递问题**: `RunnablePassthrough()` 直接传递原始问题，保持原样。\n",
    "- **构建提示**: `{\"context\": retriever | format_docs, \"question\": RunnablePassthrough()} | prompt` 构建完整的提示。\n",
    "- **运行模型**: `prompt | llm | StrOutputParser()` 运行 LLM 生成回答，并解析输出。\n",
    "\n",
    "#### 使用 LCEL 构建 RAG Chain\n",
    "\n",
    "下面我们将 LCEL 的概念与代码实现结合起来，展示了如何通过一系列 `Runnable` 组件来实现完整的 RAG 流程。通过 LCEL，LangChain 提供了高度模块化和可扩展的开发方式，使复杂任务的实现变得更加简单和高效。\n"
   ]
  },
  {
   "cell_type": "code",
   "execution_count": 63,
   "id": "0fe460ec-547e-4714-a7dd-bf9dc319b258",
   "metadata": {},
   "outputs": [],
   "source": [
    "# 定义格式化文档的函数\n",
    "def format_docs(docs):\n",
    "    return \"\\n\\n\".join(doc.page_content for doc in docs)"
   ]
  },
  {
   "cell_type": "code",
   "execution_count": 32,
   "id": "66e6049b-af4d-435d-aded-68d9c80803bf",
   "metadata": {},
   "outputs": [],
   "source": [
    "# 使用 LCEL 构建 RAG Chain\n",
    "rag_chain = (\n",
    "    {\"context\": retriever | format_docs, \"question\": RunnablePassthrough()}\n",
    "    | prompt\n",
    "    | llm\n",
    "    | StrOutputParser()\n",
    ")"
   ]
  },
  {
   "cell_type": "code",
   "execution_count": 35,
   "id": "e2880d17-79ac-4e5c-966b-144d9ee0dc68",
   "metadata": {},
   "outputs": [
    {
     "name": "stdout",
     "output_type": "stream",
     "text": [
      "《哈利·波特》系列由J.K.罗琳编著，讲述了年轻的巫师哈利·波特在霍格沃茨魔法学校的成长故事。书中融合了魔法、友谊、勇气与对抗邪恶的主题，深受全球青少年读者的喜爱。此系列不仅在文学上取得了巨大成功，也被改编为商业电影，进一步扩大了其影响力。"
     ]
    }
   ],
   "source": [
    "# 流式生成回答\n",
    "for chunk in rag_chain.stream(\"What is the book abou?\"):\n",
    "    print(chunk, end=\"\", flush=True)"
   ]
  },
  {
   "cell_type": "code",
   "execution_count": 37,
   "id": "bb6b9b0e-9883-4375-8bc1-ea31f3659172",
   "metadata": {},
   "outputs": [
    {
     "name": "stdout",
     "output_type": "stream",
     "text": [
      "《哈利·波特》系列由J.K.罗琳创作，讲述了一个年轻男孩哈利·波特在霍格沃茨魔法学校的冒险故事。在这里，他不仅发现了自己的魔法能力，还结交了朋友，面对各种挑战和敌人。整个系列探讨了勇气、友情和爱的主题，深受全球读者喜爱。"
     ]
    }
   ],
   "source": [
    "# 流式生成回答\n",
    "for chunk in rag_chain.stream(\"What is the book abou?\"):\n",
    "    print(chunk, end=\"\", flush=True)"
   ]
  },
  {
   "cell_type": "code",
   "execution_count": null,
   "id": "5a072d01-60b2-46c7-a104-c8a4a3eda0e0",
   "metadata": {},
   "outputs": [],
   "source": []
  },
  {
   "cell_type": "markdown",
   "id": "19c3d53d-6ae2-4e05-878b-6702c10995bd",
   "metadata": {},
   "source": [
    "# Homework\n",
    "1. 使用其他的线上文档或离线文件，重新构建向量数据库，尝试提出3个相关问题，测试 LCEL 构建的 RAG Chain 是否能成功召回。\n",
    "2. 重新设计或在 LangChain Hub 上找一个可用的 RAG 提示词模板，测试对比两者的召回率和生成质量。"
   ]
  },
  {
   "cell_type": "markdown",
   "id": "14d91a2d-56e0-4f52-b6a3-dc893583b51f",
   "metadata": {},
   "source": [
    "### 自定义 Prompt 的示例"
   ]
  },
  {
   "cell_type": "code",
   "execution_count": 74,
   "id": "94c5d89d-d642-41cb-ab6f-6ead404b6cb9",
   "metadata": {},
   "outputs": [],
   "source": [
    "from langchain_core.prompts import PromptTemplate\n",
    "\n",
    "# 自定义提示词模板\n",
    "template = \"\"\"Use the following pieces of context to answer the question at the end.\n",
    "If you don't know the answer, just say that you don't know, don't try to make up an answer.\n",
    "Use three sentences maximum and keep the answer as concise as possible.\n",
    "Always say \"thanks for asking!\" at the end of the answer.\n",
    "\n",
    "{context}\n",
    "\n",
    "Question: {question}\n",
    "\n",
    "data_format: {data_format}\n",
    "\n",
    "Helpful Answer:\"\"\"\n",
    "\n",
    "custom_rag_prompt = PromptTemplate.from_template(template)"
   ]
  },
  {
   "cell_type": "code",
   "execution_count": 75,
   "id": "985266bc-1239-45b1-ab76-d7bd2f279cb4",
   "metadata": {},
   "outputs": [
    {
     "name": "stdout",
     "output_type": "stream",
     "text": [
      "Use the following pieces of context to answer the question at the end.\n",
      "If you don't know the answer, just say that you don't know, don't try to make up an answer.\n",
      "Use three sentences maximum and keep the answer as concise as possible.\n",
      "Always say \"thanks for asking!\" at the end of the answer.\n",
      "\n",
      "filler context\n",
      "\n",
      "Question: filler question\n",
      "\n",
      "data_format: \n",
      "{\n",
      "    \"book_name\": \"\",\n",
      "    \"author\": \"\",\n",
      "    \"describe\": \"\"\n",
      "}\n",
      "\n",
      "\n",
      "Helpful Answer:\n"
     ]
    }
   ],
   "source": [
    "# 为 context 和 question 填充样例数据，生成 LLM 可用的提示词\n",
    "data_format = \"\"\"\n",
    "{\n",
    "    \"book_name\": \"\",\n",
    "    \"author\": \"\",\n",
    "    \"describe\": \"\"\n",
    "}\n",
    "\"\"\"\n",
    "print(custom_rag_prompt.invoke({\"context\": \"filler context\", \"question\": \"filler question\", \"data_format\": data_format}).text)"
   ]
  },
  {
   "cell_type": "code",
   "execution_count": 82,
   "id": "7fbe82ee-de48-4cc8-875c-d74242ef273d",
   "metadata": {},
   "outputs": [],
   "source": [
    "data_format = \"\"\"\n",
    "{\n",
    "    \"book_name\": \"\",\n",
    "    \"author\": \"\",\n",
    "    \"describe\": \"\"\n",
    "}\n",
    "\"\"\"\n",
    "\n",
    "# 如果需要使用 data_format，建议通过某种方式包装成支持的可调用对象\n",
    "data_format_runnable = RunnablePassthrough(lambda x: data_format)\n",
    "\n",
    "# 重新自定义 RAG Chain\n",
    "custom_rag_chain = (\n",
    "    {\"context\": retriever | format_docs, \"data_format\": data_format_runnable, \"question\": RunnablePassthrough()}\n",
    "    | custom_rag_prompt\n",
    "    | llm\n",
    "    | StrOutputParser()\n",
    ")"
   ]
  },
  {
   "cell_type": "code",
   "execution_count": 83,
   "id": "9b818824-5a44-461a-b6d5-3ff079beaaab",
   "metadata": {},
   "outputs": [
    {
     "data": {
      "text/plain": [
       "'The book series \"Harry Potter,\" authored by J.K. Rowling, follows the journey of a young wizard, Harry Potter, as he discovers his magical heritage and battles the dark wizard Voldemort. It explores themes of friendship, bravery, and the struggle between good and evil within a richly imagined magical world. Thanks for asking!'"
      ]
     },
     "execution_count": 83,
     "metadata": {},
     "output_type": "execute_result"
    }
   ],
   "source": [
    "# 使用自定义 prompt 生成回答\n",
    "custom_rag_chain.invoke(\"What is the book about?\")"
   ]
  },
  {
   "cell_type": "code",
   "execution_count": null,
   "id": "e6b1fa5d-674d-4e1c-a423-303aea90415b",
   "metadata": {},
   "outputs": [],
   "source": []
  },
  {
   "cell_type": "markdown",
   "metadata": {},
   "source": [
    "# 在 LangChain Hub 上找一个可用的 RAG 提示词模板"
   ]
  },
  {
   "cell_type": "code",
   "execution_count": 43,
   "metadata": {},
   "outputs": [
    {
     "name": "stderr",
     "output_type": "stream",
     "text": [
      "e:\\code\\github\\DjangoPeng\\openai-quickstart\\.venv\\lib\\site-packages\\langsmith\\client.py:241: LangSmithMissingAPIKeyWarning: API key must be provided when using hosted LangSmith API\n",
      "  warnings.warn(\n"
     ]
    }
   ],
   "source": [
    "# 使用 hub 模块拉取 rag 提示词模板\n",
    "# prompt = hub.pull(\"rlm/rag-prompt\")\n",
    "prompt = hub.pull(\"homanp/question-answer-pair\")"
   ]
  },
  {
   "cell_type": "code",
   "execution_count": 44,
   "metadata": {},
   "outputs": [
    {
     "name": "stdout",
     "output_type": "stream",
     "text": [
      "[SystemMessagePromptTemplate(prompt=PromptTemplate(input_variables=['context', 'data_format', 'number_of_pairs'], input_types={}, partial_variables={}, template='You are an AI assistant tasked with generating question and answer pairs for the given context using the given format. Only answer in the format with no other text. You should create the following number of question/answer pairs: {number_of_pairs}. Return the question/answer pairs as a Python List. Each dict in the list should have the full context provided, a relevant question to the context and an answer to the question.\\n\\nFormat:\\n{data_format}\\n\\nContext:\\n{context}\\n'), additional_kwargs={})]\n"
     ]
    }
   ],
   "source": [
    "# 打印模板\n",
    "print(prompt.messages)"
   ]
  },
  {
   "cell_type": "code",
   "execution_count": 88,
   "metadata": {},
   "outputs": [],
   "source": [
    "# 为 context 和 question 和 number_of_pairs 填充样例数据，并生成 ChatModel 可用的 Messages\n",
    "data_format = \"\"\"\n",
    "{\n",
    "    \"book_name\": \"\",\n",
    "    \"author\": \"\",\n",
    "    \"describe\": \"\"\n",
    "}\n",
    "\"\"\"\n",
    "\n",
    "example_messages = prompt.invoke(\n",
    "    {\"context\": \"filler context\", \"data_format\": data_format, \"number_of_pairs\": 1}\n",
    ").to_messages()"
   ]
  },
  {
   "cell_type": "code",
   "execution_count": 90,
   "metadata": {},
   "outputs": [
    {
     "name": "stdout",
     "output_type": "stream",
     "text": [
      "You are an AI assistant tasked with generating question and answer pairs for the given context using the given format. Only answer in the format with no other text. You should create the following number of question/answer pairs: 1. Return the question/answer pairs as a Python List. Each dict in the list should have the full context provided, a relevant question to the context and an answer to the question.\n",
      "\n",
      "Format:\n",
      "\n",
      "{\n",
      "    \"book_name\": \"\",\n",
      "    \"author\": \"\",\n",
      "    \"describe\": \"\"\n",
      "}\n",
      "\n",
      "\n",
      "Context:\n",
      "filler context\n",
      "\n"
     ]
    }
   ],
   "source": [
    "# 查看提示词\n",
    "print(example_messages[0].content)"
   ]
  },
  {
   "cell_type": "code",
   "execution_count": 69,
   "metadata": {},
   "outputs": [],
   "source": []
  },
  {
   "cell_type": "code",
   "execution_count": 94,
   "metadata": {},
   "outputs": [],
   "source": [
    "# 如果需要使用 data_format，建议通过某种方式包装成支持的可调用对象\n",
    "data_format_runnable = RunnablePassthrough(lambda x: data_format)\n",
    "\n",
    "number_of_pairs_runnable = RunnablePassthrough(lambda x: 2)\n",
    "\n",
    "# 使用 LCEL 构建 RAG Chain\n",
    "rag_chain = (\n",
    "    {\"context\": retriever | format_docs, \"question\": RunnablePassthrough(), \"data_format\": data_format_runnable, \"number_of_pairs\": number_of_pairs_runnable}\n",
    "    | prompt\n",
    "    | llm\n",
    "    | StrOutputParser()\n",
    ")"
   ]
  },
  {
   "cell_type": "code",
   "execution_count": 95,
   "metadata": {},
   "outputs": [
    {
     "name": "stdout",
     "output_type": "stream",
     "text": [
      "```python\n",
      "[\n",
      "    {\n",
      "        \"context\": \"内容简介\\n       · · · · · ·\\n\\n《哈利·波特(共7册)(精)》编著者J.K.罗琳。     《哈利·波特(共7册)(精)》内容提要：2000年的一个深夜，在美国书店的烛光中，穿着黑斗篷，戴着小眼镜的店员开始销售“哈利o波特4”英文版，从此哈利·波特系列图书席卷全球，也是在这一年，简体中文版“哈利o波特”系列图书通过人民文学出版社引进版权登陆中国，作者J.K.罗琳用一种简单的魔法游戏将魔幻的故事传递给了中国乃至全球的青少年读者，与此同时商业电影的改编更是将这部魔幻题材的小说推向了巅峰。     截止到2013年，哈利·波特系列图书累计销量达到200多万套。     此次，人民文学出版社隆重推出《哈利o波特（精装本）》（全七册），此套精装珍藏版《哈利·波特》听取广大资深哈迷的心声，恢复选用陪伴广大哈迷十年之久深入人心的原有封面，并在此基础上提高工艺、完善装帧，配有独具匠心的精美函套，使...(展开全部)\",\n",
      "        \"question\": \"What is the book about?\",\n",
      "        \"answer\": \"The book series 'Harry Potter' by J.K. Rowling tells the story of a young boy named Harry Potter who discovers he is a wizard and attends Hogwarts School of Witchcraft and Wizardry. It explores themes of friendship, bravery, love, and the battle against evil.\"\n",
      "    }\n",
      "]\n",
      "```"
     ]
    }
   ],
   "source": [
    "# 流式生成回答\n",
    "for chunk in rag_chain.stream(\"What is the book about?\"):\n",
    "    print(chunk, end=\"\", flush=True)"
   ]
  }
 ],
 "metadata": {
  "kernelspec": {
   "display_name": "Python 3 (ipykernel)",
   "language": "python",
   "name": "python3"
  },
  "language_info": {
   "codemirror_mode": {
    "name": "ipython",
    "version": 3
   },
   "file_extension": ".py",
   "mimetype": "text/x-python",
   "name": "python",
   "nbconvert_exporter": "python",
   "pygments_lexer": "ipython3",
   "version": "3.10.11"
  }
 },
 "nbformat": 4,
 "nbformat_minor": 5
}
